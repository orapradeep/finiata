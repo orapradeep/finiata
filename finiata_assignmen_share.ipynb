{
 "cells": [
  {
   "cell_type": "markdown",
   "metadata": {},
   "source": [
    "# Understanding the dataset\n",
    "    "
   ]
  },
  {
   "cell_type": "code",
   "execution_count": 1,
   "metadata": {},
   "outputs": [
    {
     "data": {
      "text/html": [
       "<div>\n",
       "<style>\n",
       "    .dataframe thead tr:only-child th {\n",
       "        text-align: right;\n",
       "    }\n",
       "\n",
       "    .dataframe thead th {\n",
       "        text-align: left;\n",
       "    }\n",
       "\n",
       "    .dataframe tbody tr th {\n",
       "        vertical-align: top;\n",
       "    }\n",
       "</style>\n",
       "<table border=\"1\" class=\"dataframe\">\n",
       "  <thead>\n",
       "    <tr style=\"text-align: right;\">\n",
       "      <th></th>\n",
       "      <th>expert_opinion</th>\n",
       "      <th>age</th>\n",
       "      <th>incorporation_type</th>\n",
       "      <th>continous_feature_1</th>\n",
       "      <th>continous_feature_2</th>\n",
       "      <th>continous_feature_3</th>\n",
       "      <th>continous_feature_4</th>\n",
       "      <th>continous_feature_5</th>\n",
       "      <th>continous_feature_6</th>\n",
       "      <th>continous_feature_7</th>\n",
       "      <th>...</th>\n",
       "      <th>continous_feature_20</th>\n",
       "      <th>continous_feature_21</th>\n",
       "      <th>continous_feature_22</th>\n",
       "      <th>continous_feature_23</th>\n",
       "      <th>continous_feature_24</th>\n",
       "      <th>continous_feature_25</th>\n",
       "      <th>continous_feature_26</th>\n",
       "      <th>continous_feature_27</th>\n",
       "      <th>continous_feature_28</th>\n",
       "      <th>continous_feature_29</th>\n",
       "    </tr>\n",
       "  </thead>\n",
       "  <tbody>\n",
       "    <tr>\n",
       "      <th>0</th>\n",
       "      <td>0</td>\n",
       "      <td>24.0</td>\n",
       "      <td>sp_zoo</td>\n",
       "      <td>5.740930e+05</td>\n",
       "      <td>0.0</td>\n",
       "      <td>0</td>\n",
       "      <td>0.0000</td>\n",
       "      <td>0.0</td>\n",
       "      <td>0</td>\n",
       "      <td>0</td>\n",
       "      <td>...</td>\n",
       "      <td>0.0</td>\n",
       "      <td>33.0</td>\n",
       "      <td>0.0</td>\n",
       "      <td>1.0</td>\n",
       "      <td>1.0</td>\n",
       "      <td>0.0</td>\n",
       "      <td>1.0</td>\n",
       "      <td>0.0</td>\n",
       "      <td>1.0</td>\n",
       "      <td>1.0</td>\n",
       "    </tr>\n",
       "    <tr>\n",
       "      <th>1</th>\n",
       "      <td>1</td>\n",
       "      <td>6.0</td>\n",
       "      <td>sp_zoo</td>\n",
       "      <td>2.270302e+04</td>\n",
       "      <td>0.0</td>\n",
       "      <td>0</td>\n",
       "      <td>-140.0000</td>\n",
       "      <td>0.0</td>\n",
       "      <td>0</td>\n",
       "      <td>0</td>\n",
       "      <td>...</td>\n",
       "      <td>0.0</td>\n",
       "      <td>NaN</td>\n",
       "      <td>NaN</td>\n",
       "      <td>NaN</td>\n",
       "      <td>NaN</td>\n",
       "      <td>NaN</td>\n",
       "      <td>NaN</td>\n",
       "      <td>NaN</td>\n",
       "      <td>NaN</td>\n",
       "      <td>NaN</td>\n",
       "    </tr>\n",
       "    <tr>\n",
       "      <th>2</th>\n",
       "      <td>1</td>\n",
       "      <td>28.0</td>\n",
       "      <td>dzialalnosc_gospodarcza</td>\n",
       "      <td>1.192940e+05</td>\n",
       "      <td>0.0</td>\n",
       "      <td>0</td>\n",
       "      <td>0.0000</td>\n",
       "      <td>-894.0</td>\n",
       "      <td>2</td>\n",
       "      <td>0</td>\n",
       "      <td>...</td>\n",
       "      <td>0.0</td>\n",
       "      <td>39.0</td>\n",
       "      <td>0.0</td>\n",
       "      <td>1.0</td>\n",
       "      <td>1.0</td>\n",
       "      <td>0.0</td>\n",
       "      <td>1.0</td>\n",
       "      <td>0.0</td>\n",
       "      <td>1.0</td>\n",
       "      <td>1.0</td>\n",
       "    </tr>\n",
       "    <tr>\n",
       "      <th>3</th>\n",
       "      <td>1</td>\n",
       "      <td>55.0</td>\n",
       "      <td>dzialalnosc_gospodarcza</td>\n",
       "      <td>1.251916e+06</td>\n",
       "      <td>0.0</td>\n",
       "      <td>1</td>\n",
       "      <td>0.0000</td>\n",
       "      <td>-2360.0</td>\n",
       "      <td>1</td>\n",
       "      <td>0</td>\n",
       "      <td>...</td>\n",
       "      <td>0.0</td>\n",
       "      <td>30.0</td>\n",
       "      <td>0.0</td>\n",
       "      <td>1.0</td>\n",
       "      <td>1.0</td>\n",
       "      <td>0.0</td>\n",
       "      <td>1.0</td>\n",
       "      <td>0.0</td>\n",
       "      <td>1.0</td>\n",
       "      <td>1.0</td>\n",
       "    </tr>\n",
       "    <tr>\n",
       "      <th>4</th>\n",
       "      <td>1</td>\n",
       "      <td>39.0</td>\n",
       "      <td>dzialalnosc_gospodarcza</td>\n",
       "      <td>2.266025e+05</td>\n",
       "      <td>0.0</td>\n",
       "      <td>0</td>\n",
       "      <td>-100870.2861</td>\n",
       "      <td>-88.0</td>\n",
       "      <td>1</td>\n",
       "      <td>0</td>\n",
       "      <td>...</td>\n",
       "      <td>0.0</td>\n",
       "      <td>26.0</td>\n",
       "      <td>1.0</td>\n",
       "      <td>1.0</td>\n",
       "      <td>1.0</td>\n",
       "      <td>0.0</td>\n",
       "      <td>1.0</td>\n",
       "      <td>0.0</td>\n",
       "      <td>1.0</td>\n",
       "      <td>0.0</td>\n",
       "    </tr>\n",
       "  </tbody>\n",
       "</table>\n",
       "<p>5 rows × 32 columns</p>\n",
       "</div>"
      ],
      "text/plain": [
       "   expert_opinion   age       incorporation_type  continous_feature_1  \\\n",
       "0               0  24.0                   sp_zoo         5.740930e+05   \n",
       "1               1   6.0                   sp_zoo         2.270302e+04   \n",
       "2               1  28.0  dzialalnosc_gospodarcza         1.192940e+05   \n",
       "3               1  55.0  dzialalnosc_gospodarcza         1.251916e+06   \n",
       "4               1  39.0  dzialalnosc_gospodarcza         2.266025e+05   \n",
       "\n",
       "   continous_feature_2  continous_feature_3  continous_feature_4  \\\n",
       "0                  0.0                    0               0.0000   \n",
       "1                  0.0                    0            -140.0000   \n",
       "2                  0.0                    0               0.0000   \n",
       "3                  0.0                    1               0.0000   \n",
       "4                  0.0                    0         -100870.2861   \n",
       "\n",
       "   continous_feature_5  continous_feature_6  continous_feature_7  \\\n",
       "0                  0.0                    0                    0   \n",
       "1                  0.0                    0                    0   \n",
       "2               -894.0                    2                    0   \n",
       "3              -2360.0                    1                    0   \n",
       "4                -88.0                    1                    0   \n",
       "\n",
       "           ...           continous_feature_20  continous_feature_21  \\\n",
       "0          ...                            0.0                  33.0   \n",
       "1          ...                            0.0                   NaN   \n",
       "2          ...                            0.0                  39.0   \n",
       "3          ...                            0.0                  30.0   \n",
       "4          ...                            0.0                  26.0   \n",
       "\n",
       "   continous_feature_22  continous_feature_23  continous_feature_24  \\\n",
       "0                   0.0                   1.0                   1.0   \n",
       "1                   NaN                   NaN                   NaN   \n",
       "2                   0.0                   1.0                   1.0   \n",
       "3                   0.0                   1.0                   1.0   \n",
       "4                   1.0                   1.0                   1.0   \n",
       "\n",
       "   continous_feature_25  continous_feature_26  continous_feature_27  \\\n",
       "0                   0.0                   1.0                   0.0   \n",
       "1                   NaN                   NaN                   NaN   \n",
       "2                   0.0                   1.0                   0.0   \n",
       "3                   0.0                   1.0                   0.0   \n",
       "4                   0.0                   1.0                   0.0   \n",
       "\n",
       "   continous_feature_28  continous_feature_29  \n",
       "0                   1.0                   1.0  \n",
       "1                   NaN                   NaN  \n",
       "2                   1.0                   1.0  \n",
       "3                   1.0                   1.0  \n",
       "4                   1.0                   0.0  \n",
       "\n",
       "[5 rows x 32 columns]"
      ]
     },
     "execution_count": 1,
     "metadata": {},
     "output_type": "execute_result"
    }
   ],
   "source": [
    "import pandas as pd\n",
    "import scipy.stats as stats\n",
    "from pandas import read_csv\n",
    "data=read_csv(\"Book1.csv\")\n",
    "#data=data.age.dropna()\n",
    "data.shape\n",
    "data.head()\n",
    "#data=int(data[data['expert_opinion']])"
   ]
  },
  {
   "cell_type": "markdown",
   "metadata": {},
   "source": [
    "### breaking dataset into 2 dataset one for being accepted (1) and other for not being accepted (0)"
   ]
  },
  {
   "cell_type": "code",
   "execution_count": 2,
   "metadata": {},
   "outputs": [
    {
     "name": "stdout",
     "output_type": "stream",
     "text": [
      "(1453, 32)\n",
      "(1207, 32)\n"
     ]
    }
   ],
   "source": [
    "\n",
    "cat1=data.loc[data['expert_opinion'] == 1]\n",
    "cat0=data.loc[data['expert_opinion'] == 0]\n",
    "#cat1=cat1.loc[cat1.age.dropna()]\n",
    "#cat0=cat1.loc[cat0.age.dropna()]\n",
    "#cat1('age')\n",
    "#cat0.head()\n",
    "print(cat1.shape)\n",
    "print(cat0.shape)"
   ]
  },
  {
   "cell_type": "code",
   "execution_count": 3,
   "metadata": {},
   "outputs": [
    {
     "name": "stdout",
     "output_type": "stream",
     "text": [
      "expert_opinion            0\n",
      "age                       8\n",
      "incorporation_type        4\n",
      "continous_feature_1      76\n",
      "continous_feature_2       0\n",
      "continous_feature_3       0\n",
      "continous_feature_4       0\n",
      "continous_feature_5       0\n",
      "continous_feature_6       0\n",
      "continous_feature_7       0\n",
      "continous_feature_8       0\n",
      "continous_feature_9      50\n",
      "continous_feature_10      0\n",
      "continous_feature_11    104\n",
      "continous_feature_12    104\n",
      "continous_feature_13    107\n",
      "continous_feature_14      0\n",
      "continous_feature_15    107\n",
      "continous_feature_16      0\n",
      "continous_feature_17    106\n",
      "continous_feature_18    106\n",
      "continous_feature_19      0\n",
      "continous_feature_20      0\n",
      "continous_feature_21    561\n",
      "continous_feature_22    561\n",
      "continous_feature_23    427\n",
      "continous_feature_24    427\n",
      "continous_feature_25    427\n",
      "continous_feature_26    427\n",
      "continous_feature_27    427\n",
      "continous_feature_28    427\n",
      "continous_feature_29    427\n",
      "dtype: int64\n"
     ]
    }
   ],
   "source": [
    "#no. of null values\n",
    "print(cat1.isnull().sum())"
   ]
  },
  {
   "cell_type": "code",
   "execution_count": 4,
   "metadata": {},
   "outputs": [],
   "source": [
    "#converting dataset into two sub datasets one with a accepted other not accepted\n",
    "import pandas as pd\n",
    "cat0 = cat0[pd.notnull(cat0['age'])]\n",
    "cat1= cat1[pd.notnull(cat1['age'])]\n"
   ]
  },
  {
   "cell_type": "code",
   "execution_count": 5,
   "metadata": {},
   "outputs": [
    {
     "name": "stdout",
     "output_type": "stream",
     "text": [
      "0\n",
      "0\n"
     ]
    },
    {
     "data": {
      "text/plain": [
       "(1445, 32)"
      ]
     },
     "execution_count": 5,
     "metadata": {},
     "output_type": "execute_result"
    }
   ],
   "source": [
    "#confirming any null still there\n",
    "print(cat0.age.isnull().sum())\n",
    "print(cat1.age.isnull().sum())\n",
    "cat1.shape"
   ]
  },
  {
   "cell_type": "markdown",
   "metadata": {},
   "source": [
    "# Apply t-test for \n",
    "\n",
    "1. Check for Normality & Variance criteria\n",
    "\n",
    "    The first step when applying statistical controls is to check the normality and variance criteria\n",
    "\n",
    "    (a) Normality\n",
    "\n",
    "            To test for normality, apply the Shapiro-Wilk test by calling the scipy stats.shapiro() method\n",
    "            This control tests the null hypothesis that the data was drawn from a normal distribution and returns the test statistic ('W') and the probability ('p').\n",
    "            The normality criterion holds true when p > a (where a is the probability threshold usually set to 0.05)\n",
    "    (b) Important: be sure to call the dropna() method on your data set to drop NaN values during testing\n"
   ]
  },
  {
   "cell_type": "code",
   "execution_count": 8,
   "metadata": {},
   "outputs": [
    {
     "data": {
      "text/plain": [
       "(0.7594555020332336, 0.0)"
      ]
     },
     "execution_count": 8,
     "metadata": {},
     "output_type": "execute_result"
    }
   ],
   "source": [
    "# Shapiro-Wilk normality test for data\n",
    "stats.shapiro(data.age.dropna())"
   ]
  },
  {
   "cell_type": "code",
   "execution_count": 9,
   "metadata": {},
   "outputs": [
    {
     "name": "stdout",
     "output_type": "stream",
     "text": [
      "(0.7405530214309692, 9.72501134241423e-43)\n",
      "(0.7764235734939575, 1.1126504867485282e-37)\n"
     ]
    }
   ],
   "source": [
    "# Shapiro-Wilk normality test for cat1\n",
    "print(stats.shapiro(cat1.age))\n",
    "\n",
    "# Shapiro-Wilk normality test for cat0\n",
    "print(stats.shapiro(cat0.age))\n"
   ]
  },
  {
   "cell_type": "code",
   "execution_count": 10,
   "metadata": {},
   "outputs": [
    {
     "name": "stdout",
     "output_type": "stream",
     "text": [
      "(1422, 32)\n",
      "(1206, 32)\n"
     ]
    }
   ],
   "source": [
    "cat01=cat0[cat0.age != 0]\n",
    "cat11=cat1[cat1.age != 0]\n",
    "print(cat11.shape)\n",
    "print(cat01.shape)"
   ]
  },
  {
   "cell_type": "code",
   "execution_count": 11,
   "metadata": {},
   "outputs": [
    {
     "data": {
      "text/html": [
       "<div>\n",
       "<style scoped>\n",
       "    .dataframe tbody tr th:only-of-type {\n",
       "        vertical-align: middle;\n",
       "    }\n",
       "\n",
       "    .dataframe tbody tr th {\n",
       "        vertical-align: top;\n",
       "    }\n",
       "\n",
       "    .dataframe thead th {\n",
       "        text-align: right;\n",
       "    }\n",
       "</style>\n",
       "<table border=\"1\" class=\"dataframe\">\n",
       "  <thead>\n",
       "    <tr style=\"text-align: right;\">\n",
       "      <th></th>\n",
       "      <th>expert_opinion</th>\n",
       "      <th>age</th>\n",
       "      <th>continous_feature_1</th>\n",
       "      <th>continous_feature_2</th>\n",
       "      <th>continous_feature_3</th>\n",
       "      <th>continous_feature_4</th>\n",
       "      <th>continous_feature_5</th>\n",
       "      <th>continous_feature_6</th>\n",
       "      <th>continous_feature_7</th>\n",
       "      <th>continous_feature_8</th>\n",
       "      <th>...</th>\n",
       "      <th>continous_feature_20</th>\n",
       "      <th>continous_feature_21</th>\n",
       "      <th>continous_feature_22</th>\n",
       "      <th>continous_feature_23</th>\n",
       "      <th>continous_feature_24</th>\n",
       "      <th>continous_feature_25</th>\n",
       "      <th>continous_feature_26</th>\n",
       "      <th>continous_feature_27</th>\n",
       "      <th>continous_feature_28</th>\n",
       "      <th>continous_feature_29</th>\n",
       "    </tr>\n",
       "  </thead>\n",
       "  <tbody>\n",
       "    <tr>\n",
       "      <th>count</th>\n",
       "      <td>1206.0</td>\n",
       "      <td>1206.000000</td>\n",
       "      <td>1.172000e+03</td>\n",
       "      <td>1.206000e+03</td>\n",
       "      <td>1206.000000</td>\n",
       "      <td>1.206000e+03</td>\n",
       "      <td>1.206000e+03</td>\n",
       "      <td>1206.000000</td>\n",
       "      <td>1206.000000</td>\n",
       "      <td>1206.000000</td>\n",
       "      <td>...</td>\n",
       "      <td>1206.000000</td>\n",
       "      <td>694.000000</td>\n",
       "      <td>694.000000</td>\n",
       "      <td>867.000000</td>\n",
       "      <td>867.000000</td>\n",
       "      <td>867.000000</td>\n",
       "      <td>867.000000</td>\n",
       "      <td>867.000000</td>\n",
       "      <td>867.000000</td>\n",
       "      <td>867.000000</td>\n",
       "    </tr>\n",
       "    <tr>\n",
       "      <th>mean</th>\n",
       "      <td>0.0</td>\n",
       "      <td>66.731343</td>\n",
       "      <td>7.573396e+05</td>\n",
       "      <td>1.105654e+04</td>\n",
       "      <td>0.841625</td>\n",
       "      <td>-1.094109e+05</td>\n",
       "      <td>-2.131751e+04</td>\n",
       "      <td>2.790216</td>\n",
       "      <td>-87.793532</td>\n",
       "      <td>-2585.894760</td>\n",
       "      <td>...</td>\n",
       "      <td>317.816331</td>\n",
       "      <td>38.144092</td>\n",
       "      <td>0.259366</td>\n",
       "      <td>0.851980</td>\n",
       "      <td>0.845104</td>\n",
       "      <td>0.027105</td>\n",
       "      <td>0.861310</td>\n",
       "      <td>0.178201</td>\n",
       "      <td>0.891580</td>\n",
       "      <td>1.239908</td>\n",
       "    </tr>\n",
       "    <tr>\n",
       "      <th>std</th>\n",
       "      <td>0.0</td>\n",
       "      <td>71.577721</td>\n",
       "      <td>1.272786e+06</td>\n",
       "      <td>6.752301e+04</td>\n",
       "      <td>4.060206</td>\n",
       "      <td>4.729947e+05</td>\n",
       "      <td>1.057545e+05</td>\n",
       "      <td>5.769423</td>\n",
       "      <td>2884.929413</td>\n",
       "      <td>15720.565506</td>\n",
       "      <td>...</td>\n",
       "      <td>4346.064272</td>\n",
       "      <td>11.629787</td>\n",
       "      <td>0.438603</td>\n",
       "      <td>0.353333</td>\n",
       "      <td>0.357279</td>\n",
       "      <td>0.161195</td>\n",
       "      <td>0.341332</td>\n",
       "      <td>0.382525</td>\n",
       "      <td>0.311089</td>\n",
       "      <td>1.569815</td>\n",
       "    </tr>\n",
       "    <tr>\n",
       "      <th>min</th>\n",
       "      <td>0.0</td>\n",
       "      <td>1.000000</td>\n",
       "      <td>4.561364e+02</td>\n",
       "      <td>0.000000e+00</td>\n",
       "      <td>0.000000</td>\n",
       "      <td>-1.321441e+07</td>\n",
       "      <td>-2.594612e+06</td>\n",
       "      <td>0.000000</td>\n",
       "      <td>-100100.000000</td>\n",
       "      <td>-336848.000000</td>\n",
       "      <td>...</td>\n",
       "      <td>0.000000</td>\n",
       "      <td>19.000000</td>\n",
       "      <td>0.000000</td>\n",
       "      <td>0.000000</td>\n",
       "      <td>0.000000</td>\n",
       "      <td>0.000000</td>\n",
       "      <td>0.000000</td>\n",
       "      <td>0.000000</td>\n",
       "      <td>0.000000</td>\n",
       "      <td>0.000000</td>\n",
       "    </tr>\n",
       "    <tr>\n",
       "      <th>25%</th>\n",
       "      <td>0.0</td>\n",
       "      <td>18.000000</td>\n",
       "      <td>1.490873e+05</td>\n",
       "      <td>0.000000e+00</td>\n",
       "      <td>0.000000</td>\n",
       "      <td>-8.726125e+04</td>\n",
       "      <td>-8.393250e+03</td>\n",
       "      <td>0.000000</td>\n",
       "      <td>0.000000</td>\n",
       "      <td>0.000000</td>\n",
       "      <td>...</td>\n",
       "      <td>0.000000</td>\n",
       "      <td>30.000000</td>\n",
       "      <td>0.000000</td>\n",
       "      <td>1.000000</td>\n",
       "      <td>1.000000</td>\n",
       "      <td>0.000000</td>\n",
       "      <td>1.000000</td>\n",
       "      <td>0.000000</td>\n",
       "      <td>1.000000</td>\n",
       "      <td>1.000000</td>\n",
       "    </tr>\n",
       "    <tr>\n",
       "      <th>50%</th>\n",
       "      <td>0.0</td>\n",
       "      <td>41.000000</td>\n",
       "      <td>3.571961e+05</td>\n",
       "      <td>0.000000e+00</td>\n",
       "      <td>0.000000</td>\n",
       "      <td>-1.461200e+04</td>\n",
       "      <td>-4.250000e+01</td>\n",
       "      <td>1.000000</td>\n",
       "      <td>0.000000</td>\n",
       "      <td>0.000000</td>\n",
       "      <td>...</td>\n",
       "      <td>0.000000</td>\n",
       "      <td>35.000000</td>\n",
       "      <td>0.000000</td>\n",
       "      <td>1.000000</td>\n",
       "      <td>1.000000</td>\n",
       "      <td>0.000000</td>\n",
       "      <td>1.000000</td>\n",
       "      <td>0.000000</td>\n",
       "      <td>1.000000</td>\n",
       "      <td>1.000000</td>\n",
       "    </tr>\n",
       "    <tr>\n",
       "      <th>75%</th>\n",
       "      <td>0.0</td>\n",
       "      <td>84.000000</td>\n",
       "      <td>8.539633e+05</td>\n",
       "      <td>2.346250e+03</td>\n",
       "      <td>1.000000</td>\n",
       "      <td>0.000000e+00</td>\n",
       "      <td>0.000000e+00</td>\n",
       "      <td>3.000000</td>\n",
       "      <td>0.000000</td>\n",
       "      <td>0.000000</td>\n",
       "      <td>...</td>\n",
       "      <td>0.000000</td>\n",
       "      <td>44.000000</td>\n",
       "      <td>1.000000</td>\n",
       "      <td>1.000000</td>\n",
       "      <td>1.000000</td>\n",
       "      <td>0.000000</td>\n",
       "      <td>1.000000</td>\n",
       "      <td>0.000000</td>\n",
       "      <td>1.000000</td>\n",
       "      <td>1.000000</td>\n",
       "    </tr>\n",
       "    <tr>\n",
       "      <th>max</th>\n",
       "      <td>0.0</td>\n",
       "      <td>353.000000</td>\n",
       "      <td>1.663830e+07</td>\n",
       "      <td>2.034370e+06</td>\n",
       "      <td>110.000000</td>\n",
       "      <td>0.000000e+00</td>\n",
       "      <td>0.000000e+00</td>\n",
       "      <td>136.000000</td>\n",
       "      <td>0.000000</td>\n",
       "      <td>0.000000</td>\n",
       "      <td>...</td>\n",
       "      <td>121085.440000</td>\n",
       "      <td>82.000000</td>\n",
       "      <td>1.000000</td>\n",
       "      <td>1.000000</td>\n",
       "      <td>1.000000</td>\n",
       "      <td>1.000000</td>\n",
       "      <td>1.000000</td>\n",
       "      <td>1.000000</td>\n",
       "      <td>1.000000</td>\n",
       "      <td>40.000000</td>\n",
       "    </tr>\n",
       "  </tbody>\n",
       "</table>\n",
       "<p>8 rows × 31 columns</p>\n",
       "</div>"
      ],
      "text/plain": [
       "       expert_opinion          age  continous_feature_1  continous_feature_2  \\\n",
       "count          1206.0  1206.000000         1.172000e+03         1.206000e+03   \n",
       "mean              0.0    66.731343         7.573396e+05         1.105654e+04   \n",
       "std               0.0    71.577721         1.272786e+06         6.752301e+04   \n",
       "min               0.0     1.000000         4.561364e+02         0.000000e+00   \n",
       "25%               0.0    18.000000         1.490873e+05         0.000000e+00   \n",
       "50%               0.0    41.000000         3.571961e+05         0.000000e+00   \n",
       "75%               0.0    84.000000         8.539633e+05         2.346250e+03   \n",
       "max               0.0   353.000000         1.663830e+07         2.034370e+06   \n",
       "\n",
       "       continous_feature_3  continous_feature_4  continous_feature_5  \\\n",
       "count          1206.000000         1.206000e+03         1.206000e+03   \n",
       "mean              0.841625        -1.094109e+05        -2.131751e+04   \n",
       "std               4.060206         4.729947e+05         1.057545e+05   \n",
       "min               0.000000        -1.321441e+07        -2.594612e+06   \n",
       "25%               0.000000        -8.726125e+04        -8.393250e+03   \n",
       "50%               0.000000        -1.461200e+04        -4.250000e+01   \n",
       "75%               1.000000         0.000000e+00         0.000000e+00   \n",
       "max             110.000000         0.000000e+00         0.000000e+00   \n",
       "\n",
       "       continous_feature_6  continous_feature_7  continous_feature_8  \\\n",
       "count          1206.000000          1206.000000          1206.000000   \n",
       "mean              2.790216           -87.793532         -2585.894760   \n",
       "std               5.769423          2884.929413         15720.565506   \n",
       "min               0.000000       -100100.000000       -336848.000000   \n",
       "25%               0.000000             0.000000             0.000000   \n",
       "50%               1.000000             0.000000             0.000000   \n",
       "75%               3.000000             0.000000             0.000000   \n",
       "max             136.000000             0.000000             0.000000   \n",
       "\n",
       "               ...           continous_feature_20  continous_feature_21  \\\n",
       "count          ...                    1206.000000            694.000000   \n",
       "mean           ...                     317.816331             38.144092   \n",
       "std            ...                    4346.064272             11.629787   \n",
       "min            ...                       0.000000             19.000000   \n",
       "25%            ...                       0.000000             30.000000   \n",
       "50%            ...                       0.000000             35.000000   \n",
       "75%            ...                       0.000000             44.000000   \n",
       "max            ...                  121085.440000             82.000000   \n",
       "\n",
       "       continous_feature_22  continous_feature_23  continous_feature_24  \\\n",
       "count            694.000000            867.000000            867.000000   \n",
       "mean               0.259366              0.851980              0.845104   \n",
       "std                0.438603              0.353333              0.357279   \n",
       "min                0.000000              0.000000              0.000000   \n",
       "25%                0.000000              1.000000              1.000000   \n",
       "50%                0.000000              1.000000              1.000000   \n",
       "75%                1.000000              1.000000              1.000000   \n",
       "max                1.000000              1.000000              1.000000   \n",
       "\n",
       "       continous_feature_25  continous_feature_26  continous_feature_27  \\\n",
       "count            867.000000            867.000000            867.000000   \n",
       "mean               0.027105              0.861310              0.178201   \n",
       "std                0.161195              0.341332              0.382525   \n",
       "min                0.000000              0.000000              0.000000   \n",
       "25%                0.000000              1.000000              0.000000   \n",
       "50%                0.000000              1.000000              0.000000   \n",
       "75%                0.000000              1.000000              0.000000   \n",
       "max                1.000000              1.000000              1.000000   \n",
       "\n",
       "       continous_feature_28  continous_feature_29  \n",
       "count            867.000000            867.000000  \n",
       "mean               0.891580              1.239908  \n",
       "std                0.311089              1.569815  \n",
       "min                0.000000              0.000000  \n",
       "25%                1.000000              1.000000  \n",
       "50%                1.000000              1.000000  \n",
       "75%                1.000000              1.000000  \n",
       "max                1.000000             40.000000  \n",
       "\n",
       "[8 rows x 31 columns]"
      ]
     },
     "execution_count": 11,
     "metadata": {},
     "output_type": "execute_result"
    }
   ],
   "source": [
    "cat01.describe()\n"
   ]
  },
  {
   "cell_type": "markdown",
   "metadata": {},
   "source": [
    "#### Conclusion:   Since p <0.05 for both data sets, they both failsto the normality criterion\n",
    "\n",
    "##### (b) Variance\n",
    "To test for variance, apply the Levene test by calling the scipy stats.levene() method. This control tests tests the null hypothesis that all samples come from populations with equal variances. It returns the test statistic ('W') and the probabilyt ('p'). The variance criterion holds true when p > a (where a is the probability threshold usually set to 0.05)\n",
    "\n"
   ]
  },
  {
   "cell_type": "code",
   "execution_count": 12,
   "metadata": {},
   "outputs": [
    {
     "data": {
      "text/plain": [
       "LeveneResult(statistic=3.9554312799017173, pvalue=0.04682302213159964)"
      ]
     },
     "execution_count": 12,
     "metadata": {},
     "output_type": "execute_result"
    }
   ],
   "source": [
    "# Levene variance test for Control and Treatment groups \n",
    "stats.levene(cat1.age.dropna(), cat0.age.dropna())"
   ]
  },
  {
   "cell_type": "markdown",
   "metadata": {},
   "source": [
    "##### as p is appx 0.05 seems test fails variance criteria\n",
    "\n",
    "\n",
    "#### Conclusion: Since niether normality criteria applied neither the variance criteria met so can't proceed with t test unless transformed"
   ]
  },
  {
   "cell_type": "markdown",
   "metadata": {},
   "source": [
    "# Transform nearly lognormal data to normal using box cox transformation and try again"
   ]
  },
  {
   "cell_type": "code",
   "execution_count": 14,
   "metadata": {},
   "outputs": [
    {
     "data": {
      "text/plain": [
       "<Figure size 640x480 with 1 Axes>"
      ]
     },
     "metadata": {},
     "output_type": "display_data"
    }
   ],
   "source": [
    "import matplotlib.pyplot as plt\n",
    "\n",
    "plt.hist(cat01['age'], bins=100)\n",
    "plt.show()"
   ]
  },
  {
   "cell_type": "code",
   "execution_count": 16,
   "metadata": {},
   "outputs": [
    {
     "data": {
      "image/png": "[encoded data removed]",
      "text/plain": [
       "<Figure size 432x288 with 1 Axes>"
      ]
     },
     "metadata": {},
     "output_type": "display_data"
    }
   ],
   "source": [
    "from scipy import stats\n",
    "import numpy as np\n",
    "import matplotlib.pyplot as plt\n",
    "import sklearn.preprocessing\n",
    "#from sklearn.preprocessing import PowerTransformer\n",
    "\n",
    "dft01 = stats.boxcox(cat01.age.values)\n",
    "    \n",
    "#pt = PowerTransformer(method='box-cox', standardize=False)\n",
    "#X_trans = pt.fit_transform(cat.age)\n",
    "#lmbda = round(pt.lambdas_[0], 2)\n",
    "\n",
    "  # plot the transformed data\n",
    "plt.hist(dft01[0],bins=[1,2,3,4,5,6,7,8,9,10])\n",
    "plt.show()"
   ]
  },
  {
   "cell_type": "code",
   "execution_count": 17,
   "metadata": {},
   "outputs": [
    {
     "data": {
      "text/plain": [
       "array([3.76540321, 3.58092905, 4.85612099, ..., 3.03620402, 4.45811599,\n",
       "       5.52967114])"
      ]
     },
     "execution_count": 17,
     "metadata": {},
     "output_type": "execute_result"
    }
   ],
   "source": [
    "dft01[0]"
   ]
  },
  {
   "cell_type": "code",
   "execution_count": 18,
   "metadata": {},
   "outputs": [
    {
     "data": {
      "image/png": "[encoded data removed]",
      "text/plain": [
       "<Figure size 432x288 with 1 Axes>"
      ]
     },
     "metadata": {},
     "output_type": "display_data"
    }
   ],
   "source": [
    "from scipy import stats\n",
    "import numpy as np\n",
    "import matplotlib.pyplot as plt\n",
    "import sklearn.preprocessing\n",
    "#from sklearn.preprocessing import PowerTransformer\n",
    "\n",
    "dft11 = stats.boxcox(cat11.age.values)\n",
    "    \n",
    "#pt = PowerTransformer(method='box-cox', standardize=False)\n",
    "#X_trans = pt.fit_transform(cat.age)\n",
    "#lmbda = round(pt.lambdas_[0], 2)\n",
    "\n",
    "  # plot the transformed data\n",
    "plt.hist(dft11[0],bins=[1,2,3,4,5,6,7,8,9,10])\n",
    "plt.show()"
   ]
  },
  {
   "cell_type": "code",
   "execution_count": 19,
   "metadata": {},
   "outputs": [
    {
     "data": {
      "text/plain": [
       "array([3.76540321, 3.58092905, 4.85612099, ..., 3.03620402, 4.45811599,\n",
       "       5.52967114])"
      ]
     },
     "execution_count": 19,
     "metadata": {},
     "output_type": "execute_result"
    }
   ],
   "source": [
    "dft01[0]"
   ]
  },
  {
   "cell_type": "code",
   "execution_count": 20,
   "metadata": {},
   "outputs": [
    {
     "data": {
      "text/plain": [
       "(0.9923589825630188, 6.81455094309058e-06)"
      ]
     },
     "execution_count": 20,
     "metadata": {},
     "output_type": "execute_result"
    }
   ],
   "source": [
    "import scipy.stats\n",
    "#cat0n = scipy.stats.boxcox(dft01)\n",
    "stats.shapiro(dft01[0])"
   ]
  },
  {
   "cell_type": "code",
   "execution_count": 21,
   "metadata": {},
   "outputs": [
    {
     "data": {
      "text/plain": [
       "NormaltestResult(statistic=17.66619456419138, pvalue=0.0001458258754234795)"
      ]
     },
     "execution_count": 21,
     "metadata": {},
     "output_type": "execute_result"
    }
   ],
   "source": [
    "#xt0, maxlog0, interval = stats.boxcox(cat01.age, alpha=0.05)\n",
    "#print(\"lambda = {:g}\".format(maxlog0))\n",
    "scipy.stats.normaltest(dft01[0])"
   ]
  },
  {
   "cell_type": "markdown",
   "metadata": {},
   "source": [
    "### data still not normal"
   ]
  },
  {
   "cell_type": "code",
   "execution_count": 22,
   "metadata": {},
   "outputs": [
    {
     "data": {
      "text/plain": [
       "Ttest_indResult(statistic=3.137943535201506, pvalue=0.0017202433402076457)"
      ]
     },
     "execution_count": 22,
     "metadata": {},
     "output_type": "execute_result"
    }
   ],
   "source": [
    "from scipy.stats import ttest_ind\n",
    "#filter = df[\"Tenant\"] != \"\"\n",
    "#dfNew = df[filter]\n",
    "#data2= data.age >= 0\n",
    "#data3= data[data2]\n",
    "#cat1=data3[data3['expert_opinion'] == 1]\n",
    "#cat0=data3[data3['expert_opinion']== 0]\n",
    "#ttest_ind(cat1['age'], cat0['age'])\n",
    "#cat0\n",
    "ttest_ind(dft01[0], dft11[0])"
   ]
  },
  {
   "cell_type": "code",
   "execution_count": 24,
   "metadata": {},
   "outputs": [
    {
     "data": {
      "text/plain": [
       "Text(0,0.5,'T_age')"
      ]
     },
     "execution_count": 24,
     "metadata": {},
     "output_type": "execute_result"
    },
    {
     "data": {
      "image/png": "[encoded data removed]",
      "text/plain": [
       "<Figure size 432x288 with 1 Axes>"
      ]
     },
     "metadata": {},
     "output_type": "display_data"
    }
   ],
   "source": [
    "import matplotlib.pyplot as plt\n",
    "import numpy as np\n",
    "import seaborn as sns\n",
    "plt.boxplot([dft01[0], dft11[0]])\n",
    "#plt.boxplot ([x1, x2, x3])\n",
    "\n",
    "#fig = plt.figure()\n",
    "#plt.plot(data)\n",
    "plt.suptitle('Age on Decision', fontsize=20)\n",
    "plt.xlabel('Outcome', fontsize=18)\n",
    "plt.ylabel('T_age', fontsize=16)\n",
    "#fig.savefig('test.jpg')\n"
   ]
  },
  {
   "cell_type": "markdown",
   "metadata": {},
   "source": [
    "### Conclusion: Above test fails to rejects null hypothesis, we did ttest inspite non normal data so can't be trusted"
   ]
  },
  {
   "cell_type": "code",
   "execution_count": null,
   "metadata": {},
   "outputs": [],
   "source": []
  },
  {
   "cell_type": "markdown",
   "metadata": {},
   "source": [
    "# Checking for ‘incorporation_type’ IMPACT on being accepted ??"
   ]
  },
  {
   "cell_type": "code",
   "execution_count": 25,
   "metadata": {},
   "outputs": [],
   "source": [
    "cat0i= cat0[pd.notnull(cat0['incorporation_type'])]\n"
   ]
  },
  {
   "cell_type": "code",
   "execution_count": 27,
   "metadata": {},
   "outputs": [],
   "source": [
    "expert_Opi=data.expert_opinion\n",
    "inc=data.incorporation_type"
   ]
  },
  {
   "cell_type": "code",
   "execution_count": 28,
   "metadata": {},
   "outputs": [
    {
     "data": {
      "text/html": [
       "<div>\n",
       "<style scoped>\n",
       "    .dataframe tbody tr th:only-of-type {\n",
       "        vertical-align: middle;\n",
       "    }\n",
       "\n",
       "    .dataframe tbody tr th {\n",
       "        vertical-align: top;\n",
       "    }\n",
       "\n",
       "    .dataframe thead th {\n",
       "        text-align: right;\n",
       "    }\n",
       "</style>\n",
       "<table border=\"1\" class=\"dataframe\">\n",
       "  <thead>\n",
       "    <tr style=\"text-align: right;\">\n",
       "      <th>incorporation_T</th>\n",
       "      <th>dzialalnosc_gospodarcza</th>\n",
       "      <th>fundacja</th>\n",
       "      <th>sa</th>\n",
       "      <th>sp_cywilna</th>\n",
       "      <th>sp_jawna</th>\n",
       "      <th>sp_komandytowa</th>\n",
       "      <th>sp_komandytowo-akcyjna</th>\n",
       "      <th>sp_zoo</th>\n",
       "      <th>stowarzyszenie</th>\n",
       "    </tr>\n",
       "    <tr>\n",
       "      <th>expert_Opi</th>\n",
       "      <th></th>\n",
       "      <th></th>\n",
       "      <th></th>\n",
       "      <th></th>\n",
       "      <th></th>\n",
       "      <th></th>\n",
       "      <th></th>\n",
       "      <th></th>\n",
       "      <th></th>\n",
       "    </tr>\n",
       "  </thead>\n",
       "  <tbody>\n",
       "    <tr>\n",
       "      <th>0</th>\n",
       "      <td>923</td>\n",
       "      <td>2</td>\n",
       "      <td>2</td>\n",
       "      <td>25</td>\n",
       "      <td>5</td>\n",
       "      <td>12</td>\n",
       "      <td>0</td>\n",
       "      <td>238</td>\n",
       "      <td>0</td>\n",
       "    </tr>\n",
       "    <tr>\n",
       "      <th>1</th>\n",
       "      <td>1104</td>\n",
       "      <td>4</td>\n",
       "      <td>1</td>\n",
       "      <td>11</td>\n",
       "      <td>6</td>\n",
       "      <td>9</td>\n",
       "      <td>1</td>\n",
       "      <td>312</td>\n",
       "      <td>1</td>\n",
       "    </tr>\n",
       "  </tbody>\n",
       "</table>\n",
       "</div>"
      ],
      "text/plain": [
       "incorporation_T  dzialalnosc_gospodarcza  fundacja  sa  sp_cywilna  sp_jawna  \\\n",
       "expert_Opi                                                                     \n",
       "0                                    923         2   2          25         5   \n",
       "1                                   1104         4   1          11         6   \n",
       "\n",
       "incorporation_T  sp_komandytowa  sp_komandytowo-akcyjna  sp_zoo  \\\n",
       "expert_Opi                                                        \n",
       "0                            12                       0     238   \n",
       "1                             9                       1     312   \n",
       "\n",
       "incorporation_T  stowarzyszenie  \n",
       "expert_Opi                       \n",
       "0                             0  \n",
       "1                             1  "
      ]
     },
     "execution_count": 28,
     "metadata": {},
     "output_type": "execute_result"
    }
   ],
   "source": [
    " pd.crosstab(expert_Opi, inc, rownames=['expert_Opi'], colnames=['incorporation_T'])"
   ]
  },
  {
   "cell_type": "code",
   "execution_count": 29,
   "metadata": {},
   "outputs": [
    {
     "data": {
      "text/html": [
       "<div>\n",
       "<style scoped>\n",
       "    .dataframe tbody tr th:only-of-type {\n",
       "        vertical-align: middle;\n",
       "    }\n",
       "\n",
       "    .dataframe tbody tr th {\n",
       "        vertical-align: top;\n",
       "    }\n",
       "\n",
       "    .dataframe thead th {\n",
       "        text-align: right;\n",
       "    }\n",
       "</style>\n",
       "<table border=\"1\" class=\"dataframe\">\n",
       "  <thead>\n",
       "    <tr style=\"text-align: right;\">\n",
       "      <th>incorporation_type</th>\n",
       "      <th>dzialalnosc_gospodarcza</th>\n",
       "      <th>fundacja</th>\n",
       "      <th>sa</th>\n",
       "      <th>sp_cywilna</th>\n",
       "      <th>sp_jawna</th>\n",
       "      <th>sp_komandytowa</th>\n",
       "      <th>sp_komandytowo-akcyjna</th>\n",
       "      <th>sp_zoo</th>\n",
       "      <th>stowarzyszenie</th>\n",
       "      <th>All</th>\n",
       "    </tr>\n",
       "    <tr>\n",
       "      <th>expert_opinion</th>\n",
       "      <th></th>\n",
       "      <th></th>\n",
       "      <th></th>\n",
       "      <th></th>\n",
       "      <th></th>\n",
       "      <th></th>\n",
       "      <th></th>\n",
       "      <th></th>\n",
       "      <th></th>\n",
       "      <th></th>\n",
       "    </tr>\n",
       "  </thead>\n",
       "  <tbody>\n",
       "    <tr>\n",
       "      <th>0</th>\n",
       "      <td>923</td>\n",
       "      <td>2</td>\n",
       "      <td>2</td>\n",
       "      <td>25</td>\n",
       "      <td>5</td>\n",
       "      <td>12</td>\n",
       "      <td>0</td>\n",
       "      <td>238</td>\n",
       "      <td>0</td>\n",
       "      <td>1207</td>\n",
       "    </tr>\n",
       "    <tr>\n",
       "      <th>1</th>\n",
       "      <td>1104</td>\n",
       "      <td>4</td>\n",
       "      <td>1</td>\n",
       "      <td>11</td>\n",
       "      <td>6</td>\n",
       "      <td>9</td>\n",
       "      <td>1</td>\n",
       "      <td>312</td>\n",
       "      <td>1</td>\n",
       "      <td>1449</td>\n",
       "    </tr>\n",
       "    <tr>\n",
       "      <th>All</th>\n",
       "      <td>2027</td>\n",
       "      <td>6</td>\n",
       "      <td>3</td>\n",
       "      <td>36</td>\n",
       "      <td>11</td>\n",
       "      <td>21</td>\n",
       "      <td>1</td>\n",
       "      <td>550</td>\n",
       "      <td>1</td>\n",
       "      <td>2656</td>\n",
       "    </tr>\n",
       "  </tbody>\n",
       "</table>\n",
       "</div>"
      ],
      "text/plain": [
       "incorporation_type  dzialalnosc_gospodarcza  fundacja  sa  sp_cywilna  \\\n",
       "expert_opinion                                                          \n",
       "0                                       923         2   2          25   \n",
       "1                                      1104         4   1          11   \n",
       "All                                    2027         6   3          36   \n",
       "\n",
       "incorporation_type  sp_jawna  sp_komandytowa  sp_komandytowo-akcyjna  sp_zoo  \\\n",
       "expert_opinion                                                                 \n",
       "0                          5              12                       0     238   \n",
       "1                          6               9                       1     312   \n",
       "All                       11              21                       1     550   \n",
       "\n",
       "incorporation_type  stowarzyszenie   All  \n",
       "expert_opinion                            \n",
       "0                                0  1207  \n",
       "1                                1  1449  \n",
       "All                              1  2656  "
      ]
     },
     "execution_count": 29,
     "metadata": {},
     "output_type": "execute_result"
    }
   ],
   "source": [
    "contigency=pd.crosstab(expert_Opi,inc,margins=True)\n",
    "contigency"
   ]
  },
  {
   "cell_type": "code",
   "execution_count": 30,
   "metadata": {},
   "outputs": [],
   "source": [
    "from scipy.stats import chi2_contingency\n",
    "# Chi-square test of independence.\n",
    "c, p, dof, expected = chi2_contingency(contigency)"
   ]
  },
  {
   "cell_type": "code",
   "execution_count": 31,
   "metadata": {},
   "outputs": [
    {
     "data": {
      "text/plain": [
       "(13.142001487687972,\n",
       " 0.7830689231331012,\n",
       " 18,\n",
       " array([[9.21155497e+02, 2.72665663e+00, 1.36332831e+00, 1.63599398e+01,\n",
       "         4.99887048e+00, 9.54329819e+00, 4.54442771e-01, 2.49943524e+02,\n",
       "         4.54442771e-01, 1.20700000e+03],\n",
       "        [1.10584450e+03, 3.27334337e+00, 1.63667169e+00, 1.96400602e+01,\n",
       "         6.00112952e+00, 1.14567018e+01, 5.45557229e-01, 3.00056476e+02,\n",
       "         5.45557229e-01, 1.44900000e+03],\n",
       "        [2.02700000e+03, 6.00000000e+00, 3.00000000e+00, 3.60000000e+01,\n",
       "         1.10000000e+01, 2.10000000e+01, 1.00000000e+00, 5.50000000e+02,\n",
       "         1.00000000e+00, 2.65600000e+03]]))"
      ]
     },
     "execution_count": 31,
     "metadata": {},
     "output_type": "execute_result"
    }
   ],
   "source": [
    "chi2_contingency(contigency)"
   ]
  },
  {
   "cell_type": "markdown",
   "metadata": {},
   "source": [
    "### p value sugeest no significant difference exist"
   ]
  },
  {
   "cell_type": "code",
   "execution_count": null,
   "metadata": {},
   "outputs": [],
   "source": []
  },
  {
   "cell_type": "markdown",
   "metadata": {},
   "source": [
    "# imputation using mean"
   ]
  },
  {
   "cell_type": "code",
   "execution_count": 32,
   "metadata": {},
   "outputs": [
    {
     "name": "stdout",
     "output_type": "stream",
     "text": [
      "expert_opinion          0\n",
      "age                     0\n",
      "incorporation_type      4\n",
      "continous_feature_1     0\n",
      "continous_feature_2     0\n",
      "continous_feature_3     0\n",
      "continous_feature_4     0\n",
      "continous_feature_5     0\n",
      "continous_feature_6     0\n",
      "continous_feature_7     0\n",
      "continous_feature_8     0\n",
      "continous_feature_9     0\n",
      "continous_feature_10    0\n",
      "continous_feature_11    0\n",
      "continous_feature_12    0\n",
      "continous_feature_13    0\n",
      "continous_feature_14    0\n",
      "continous_feature_15    0\n",
      "continous_feature_16    0\n",
      "continous_feature_17    0\n",
      "continous_feature_18    0\n",
      "continous_feature_19    0\n",
      "continous_feature_20    0\n",
      "continous_feature_21    0\n",
      "continous_feature_22    0\n",
      "continous_feature_23    0\n",
      "continous_feature_24    0\n",
      "continous_feature_25    0\n",
      "continous_feature_26    0\n",
      "continous_feature_27    0\n",
      "continous_feature_28    0\n",
      "continous_feature_29    0\n",
      "dtype: int64\n"
     ]
    }
   ],
   "source": [
    "# fill missing values with mean column values\n",
    "data.fillna(data.mean(), inplace=True)\n",
    "# count the number of NaN values in each column\n",
    "print(data.isnull().sum())"
   ]
  },
  {
   "cell_type": "markdown",
   "metadata": {},
   "source": [
    "#### incorporation type need to remove rows as it cant be imputed using mean methods since its a categorical variable"
   ]
  },
  {
   "cell_type": "code",
   "execution_count": 6,
   "metadata": {},
   "outputs": [
    {
     "name": "stdout",
     "output_type": "stream",
     "text": [
      "expert_opinion          0\n",
      "age                     0\n",
      "incorporation_type      0\n",
      "continous_feature_1     0\n",
      "continous_feature_2     0\n",
      "continous_feature_3     0\n",
      "continous_feature_4     0\n",
      "continous_feature_5     0\n",
      "continous_feature_6     0\n",
      "continous_feature_7     0\n",
      "continous_feature_8     0\n",
      "continous_feature_9     0\n",
      "continous_feature_10    0\n",
      "continous_feature_11    0\n",
      "continous_feature_12    0\n",
      "continous_feature_13    0\n",
      "continous_feature_14    0\n",
      "continous_feature_15    0\n",
      "continous_feature_16    0\n",
      "continous_feature_17    0\n",
      "continous_feature_18    0\n",
      "continous_feature_19    0\n",
      "continous_feature_20    0\n",
      "continous_feature_21    0\n",
      "continous_feature_22    0\n",
      "continous_feature_23    0\n",
      "continous_feature_24    0\n",
      "continous_feature_25    0\n",
      "continous_feature_26    0\n",
      "continous_feature_27    0\n",
      "continous_feature_28    0\n",
      "continous_feature_29    0\n",
      "dtype: int64\n"
     ]
    }
   ],
   "source": [
    "#confirming no NA\n",
    "data.dropna(inplace=True)\n",
    "print(data.isnull().sum())"
   ]
  },
  {
   "cell_type": "code",
   "execution_count": 34,
   "metadata": {},
   "outputs": [
    {
     "data": {
      "text/plain": [
       "1    1449\n",
       "0    1207\n",
       "Name: expert_opinion, dtype: int64"
      ]
     },
     "execution_count": 34,
     "metadata": {},
     "output_type": "execute_result"
    }
   ],
   "source": [
    "data.expert_opinion.value_counts()"
   ]
  },
  {
   "cell_type": "code",
   "execution_count": 35,
   "metadata": {
    "scrolled": true
   },
   "outputs": [
    {
     "name": "stderr",
     "output_type": "stream",
     "text": [
      "/usr/local/lib/python3.6/site-packages/sklearn/cross_validation.py:41: DeprecationWarning: This module was deprecated in version 0.18 in favor of the model_selection module into which all the refactored classes and functions are moved. Also note that the interface of the new CV iterators are different from that of this module. This module will be removed in 0.20.\n",
      "  \"This module will be removed in 0.20.\", DeprecationWarning)\n"
     ]
    }
   ],
   "source": [
    "import pandas as pd\n",
    "import numpy as np\n",
    "from sklearn import preprocessing\n",
    "import matplotlib.pyplot as plt \n",
    "plt.rc(\"font\", size=14)\n",
    "from sklearn.linear_model import LogisticRegression\n",
    "from sklearn.cross_validation import train_test_split\n",
    "import seaborn as sns\n",
    "sns.set(style=\"white\")\n",
    "sns.set(style=\"whitegrid\", color_codes=True)"
   ]
  },
  {
   "cell_type": "code",
   "execution_count": 36,
   "metadata": {},
   "outputs": [
    {
     "data": {
      "image/png": "[encoded data removed]",
      "text/plain": [
       "<Figure size 432x288 with 1 Axes>"
      ]
     },
     "metadata": {},
     "output_type": "display_data"
    }
   ],
   "source": [
    "sns.countplot(x=data.expert_opinion, data=data, palette='hls')\n",
    "plt.show()\n"
   ]
  },
  {
   "cell_type": "code",
   "execution_count": 37,
   "metadata": {},
   "outputs": [
    {
     "data": {
      "text/html": [
       "<div>\n",
       "<style scoped>\n",
       "    .dataframe tbody tr th:only-of-type {\n",
       "        vertical-align: middle;\n",
       "    }\n",
       "\n",
       "    .dataframe tbody tr th {\n",
       "        vertical-align: top;\n",
       "    }\n",
       "\n",
       "    .dataframe thead th {\n",
       "        text-align: right;\n",
       "    }\n",
       "</style>\n",
       "<table border=\"1\" class=\"dataframe\">\n",
       "  <thead>\n",
       "    <tr style=\"text-align: right;\">\n",
       "      <th></th>\n",
       "      <th>age</th>\n",
       "      <th>continous_feature_1</th>\n",
       "      <th>continous_feature_2</th>\n",
       "      <th>continous_feature_3</th>\n",
       "      <th>continous_feature_4</th>\n",
       "      <th>continous_feature_5</th>\n",
       "      <th>continous_feature_6</th>\n",
       "      <th>continous_feature_7</th>\n",
       "      <th>continous_feature_8</th>\n",
       "      <th>continous_feature_9</th>\n",
       "      <th>...</th>\n",
       "      <th>continous_feature_20</th>\n",
       "      <th>continous_feature_21</th>\n",
       "      <th>continous_feature_22</th>\n",
       "      <th>continous_feature_23</th>\n",
       "      <th>continous_feature_24</th>\n",
       "      <th>continous_feature_25</th>\n",
       "      <th>continous_feature_26</th>\n",
       "      <th>continous_feature_27</th>\n",
       "      <th>continous_feature_28</th>\n",
       "      <th>continous_feature_29</th>\n",
       "    </tr>\n",
       "    <tr>\n",
       "      <th>expert_opinion</th>\n",
       "      <th></th>\n",
       "      <th></th>\n",
       "      <th></th>\n",
       "      <th></th>\n",
       "      <th></th>\n",
       "      <th></th>\n",
       "      <th></th>\n",
       "      <th></th>\n",
       "      <th></th>\n",
       "      <th></th>\n",
       "      <th></th>\n",
       "      <th></th>\n",
       "      <th></th>\n",
       "      <th></th>\n",
       "      <th></th>\n",
       "      <th></th>\n",
       "      <th></th>\n",
       "      <th></th>\n",
       "      <th></th>\n",
       "      <th></th>\n",
       "      <th></th>\n",
       "    </tr>\n",
       "  </thead>\n",
       "  <tbody>\n",
       "    <tr>\n",
       "      <th>0</th>\n",
       "      <td>66.676056</td>\n",
       "      <td>753339.419825</td>\n",
       "      <td>11047.374775</td>\n",
       "      <td>0.849213</td>\n",
       "      <td>-109362.836832</td>\n",
       "      <td>-21299.848427</td>\n",
       "      <td>2.787904</td>\n",
       "      <td>-87.720795</td>\n",
       "      <td>-2586.158310</td>\n",
       "      <td>175.869433</td>\n",
       "      <td>...</td>\n",
       "      <td>317.553020</td>\n",
       "      <td>37.709550</td>\n",
       "      <td>0.257127</td>\n",
       "      <td>0.854650</td>\n",
       "      <td>0.840175</td>\n",
       "      <td>0.032470</td>\n",
       "      <td>0.854443</td>\n",
       "      <td>0.173316</td>\n",
       "      <td>0.892228</td>\n",
       "      <td>1.237872</td>\n",
       "    </tr>\n",
       "    <tr>\n",
       "      <th>1</th>\n",
       "      <td>56.487557</td>\n",
       "      <td>540728.161662</td>\n",
       "      <td>8874.724576</td>\n",
       "      <td>0.601794</td>\n",
       "      <td>-65052.529806</td>\n",
       "      <td>-15989.388551</td>\n",
       "      <td>2.492063</td>\n",
       "      <td>-80.828157</td>\n",
       "      <td>-2211.530749</td>\n",
       "      <td>161.918919</td>\n",
       "      <td>...</td>\n",
       "      <td>233.339614</td>\n",
       "      <td>36.636924</td>\n",
       "      <td>0.251751</td>\n",
       "      <td>0.871413</td>\n",
       "      <td>0.815726</td>\n",
       "      <td>0.057923</td>\n",
       "      <td>0.821013</td>\n",
       "      <td>0.151799</td>\n",
       "      <td>0.899801</td>\n",
       "      <td>1.229571</td>\n",
       "    </tr>\n",
       "  </tbody>\n",
       "</table>\n",
       "<p>2 rows × 30 columns</p>\n",
       "</div>"
      ],
      "text/plain": [
       "                      age  continous_feature_1  continous_feature_2  \\\n",
       "expert_opinion                                                        \n",
       "0               66.676056        753339.419825         11047.374775   \n",
       "1               56.487557        540728.161662          8874.724576   \n",
       "\n",
       "                continous_feature_3  continous_feature_4  continous_feature_5  \\\n",
       "expert_opinion                                                                  \n",
       "0                          0.849213       -109362.836832        -21299.848427   \n",
       "1                          0.601794        -65052.529806        -15989.388551   \n",
       "\n",
       "                continous_feature_6  continous_feature_7  continous_feature_8  \\\n",
       "expert_opinion                                                                  \n",
       "0                          2.787904           -87.720795         -2586.158310   \n",
       "1                          2.492063           -80.828157         -2211.530749   \n",
       "\n",
       "                continous_feature_9          ...           \\\n",
       "expert_opinion                               ...            \n",
       "0                        175.869433          ...            \n",
       "1                        161.918919          ...            \n",
       "\n",
       "                continous_feature_20  continous_feature_21  \\\n",
       "expert_opinion                                               \n",
       "0                         317.553020             37.709550   \n",
       "1                         233.339614             36.636924   \n",
       "\n",
       "                continous_feature_22  continous_feature_23  \\\n",
       "expert_opinion                                               \n",
       "0                           0.257127              0.854650   \n",
       "1                           0.251751              0.871413   \n",
       "\n",
       "                continous_feature_24  continous_feature_25  \\\n",
       "expert_opinion                                               \n",
       "0                           0.840175              0.032470   \n",
       "1                           0.815726              0.057923   \n",
       "\n",
       "                continous_feature_26  continous_feature_27  \\\n",
       "expert_opinion                                               \n",
       "0                           0.854443              0.173316   \n",
       "1                           0.821013              0.151799   \n",
       "\n",
       "                continous_feature_28  continous_feature_29  \n",
       "expert_opinion                                              \n",
       "0                           0.892228              1.237872  \n",
       "1                           0.899801              1.229571  \n",
       "\n",
       "[2 rows x 30 columns]"
      ]
     },
     "execution_count": 37,
     "metadata": {},
     "output_type": "execute_result"
    }
   ],
   "source": [
    "data.groupby('expert_opinion').mean()"
   ]
  },
  {
   "cell_type": "code",
   "execution_count": 38,
   "metadata": {},
   "outputs": [
    {
     "data": {
      "text/plain": [
       "['age',\n",
       " 'continous_feature_1',\n",
       " 'continous_feature_2',\n",
       " 'continous_feature_3',\n",
       " 'continous_feature_4',\n",
       " 'continous_feature_5',\n",
       " 'continous_feature_6',\n",
       " 'continous_feature_7',\n",
       " 'continous_feature_8',\n",
       " 'continous_feature_9',\n",
       " 'continous_feature_10',\n",
       " 'continous_feature_11',\n",
       " 'continous_feature_12',\n",
       " 'continous_feature_13',\n",
       " 'continous_feature_14',\n",
       " 'continous_feature_15',\n",
       " 'continous_feature_16',\n",
       " 'continous_feature_17',\n",
       " 'continous_feature_18',\n",
       " 'continous_feature_19',\n",
       " 'continous_feature_20',\n",
       " 'continous_feature_21',\n",
       " 'continous_feature_22',\n",
       " 'continous_feature_23',\n",
       " 'continous_feature_24',\n",
       " 'continous_feature_25',\n",
       " 'continous_feature_26',\n",
       " 'continous_feature_27',\n",
       " 'continous_feature_28',\n",
       " 'continous_feature_29']"
      ]
     },
     "execution_count": 38,
     "metadata": {},
     "output_type": "execute_result"
    }
   ],
   "source": [
    "y=['expert_opinion']\n",
    "\n",
    "X=[i for i in data if i not in y]\n",
    "del X[1]\n",
    "X"
   ]
  },
  {
   "cell_type": "code",
   "execution_count": 39,
   "metadata": {},
   "outputs": [
    {
     "data": {
      "text/plain": [
       "['expert_opinion']"
      ]
     },
     "execution_count": 39,
     "metadata": {},
     "output_type": "execute_result"
    }
   ],
   "source": [
    "y"
   ]
  },
  {
   "cell_type": "code",
   "execution_count": 40,
   "metadata": {},
   "outputs": [
    {
     "data": {
      "text/plain": [
       "pandas.core.frame.DataFrame"
      ]
     },
     "execution_count": 40,
     "metadata": {},
     "output_type": "execute_result"
    }
   ],
   "source": [
    "y1=data[y]\n",
    "type(y1)"
   ]
  },
  {
   "cell_type": "code",
   "execution_count": 41,
   "metadata": {},
   "outputs": [
    {
     "data": {
      "text/html": [
       "<div>\n",
       "<style scoped>\n",
       "    .dataframe tbody tr th:only-of-type {\n",
       "        vertical-align: middle;\n",
       "    }\n",
       "\n",
       "    .dataframe tbody tr th {\n",
       "        vertical-align: top;\n",
       "    }\n",
       "\n",
       "    .dataframe thead th {\n",
       "        text-align: right;\n",
       "    }\n",
       "</style>\n",
       "<table border=\"1\" class=\"dataframe\">\n",
       "  <thead>\n",
       "    <tr style=\"text-align: right;\">\n",
       "      <th></th>\n",
       "      <th>age</th>\n",
       "      <th>continous_feature_1</th>\n",
       "      <th>continous_feature_2</th>\n",
       "      <th>continous_feature_3</th>\n",
       "      <th>continous_feature_4</th>\n",
       "      <th>continous_feature_5</th>\n",
       "      <th>continous_feature_6</th>\n",
       "      <th>continous_feature_7</th>\n",
       "      <th>continous_feature_8</th>\n",
       "      <th>continous_feature_9</th>\n",
       "      <th>...</th>\n",
       "      <th>continous_feature_20</th>\n",
       "      <th>continous_feature_21</th>\n",
       "      <th>continous_feature_22</th>\n",
       "      <th>continous_feature_23</th>\n",
       "      <th>continous_feature_24</th>\n",
       "      <th>continous_feature_25</th>\n",
       "      <th>continous_feature_26</th>\n",
       "      <th>continous_feature_27</th>\n",
       "      <th>continous_feature_28</th>\n",
       "      <th>continous_feature_29</th>\n",
       "    </tr>\n",
       "  </thead>\n",
       "  <tbody>\n",
       "    <tr>\n",
       "      <th>0</th>\n",
       "      <td>24.0</td>\n",
       "      <td>5.740930e+05</td>\n",
       "      <td>0.0</td>\n",
       "      <td>0</td>\n",
       "      <td>0.0000</td>\n",
       "      <td>0.0</td>\n",
       "      <td>0</td>\n",
       "      <td>0</td>\n",
       "      <td>0.000</td>\n",
       "      <td>249.0</td>\n",
       "      <td>...</td>\n",
       "      <td>0.0</td>\n",
       "      <td>33.00000</td>\n",
       "      <td>0.000000</td>\n",
       "      <td>1.000</td>\n",
       "      <td>1.000000</td>\n",
       "      <td>0.000000</td>\n",
       "      <td>1.000000</td>\n",
       "      <td>0.000000</td>\n",
       "      <td>1.000000</td>\n",
       "      <td>1.000000</td>\n",
       "    </tr>\n",
       "    <tr>\n",
       "      <th>1</th>\n",
       "      <td>6.0</td>\n",
       "      <td>2.270302e+04</td>\n",
       "      <td>0.0</td>\n",
       "      <td>0</td>\n",
       "      <td>-140.0000</td>\n",
       "      <td>0.0</td>\n",
       "      <td>0</td>\n",
       "      <td>0</td>\n",
       "      <td>0.000</td>\n",
       "      <td>172.0</td>\n",
       "      <td>...</td>\n",
       "      <td>0.0</td>\n",
       "      <td>37.12169</td>\n",
       "      <td>0.254098</td>\n",
       "      <td>0.864</td>\n",
       "      <td>0.827097</td>\n",
       "      <td>0.046287</td>\n",
       "      <td>0.836451</td>\n",
       "      <td>0.161334</td>\n",
       "      <td>0.896515</td>\n",
       "      <td>1.233369</td>\n",
       "    </tr>\n",
       "    <tr>\n",
       "      <th>2</th>\n",
       "      <td>28.0</td>\n",
       "      <td>1.192940e+05</td>\n",
       "      <td>0.0</td>\n",
       "      <td>0</td>\n",
       "      <td>0.0000</td>\n",
       "      <td>-894.0</td>\n",
       "      <td>2</td>\n",
       "      <td>0</td>\n",
       "      <td>0.000</td>\n",
       "      <td>180.0</td>\n",
       "      <td>...</td>\n",
       "      <td>0.0</td>\n",
       "      <td>39.00000</td>\n",
       "      <td>0.000000</td>\n",
       "      <td>1.000</td>\n",
       "      <td>1.000000</td>\n",
       "      <td>0.000000</td>\n",
       "      <td>1.000000</td>\n",
       "      <td>0.000000</td>\n",
       "      <td>1.000000</td>\n",
       "      <td>1.000000</td>\n",
       "    </tr>\n",
       "    <tr>\n",
       "      <th>3</th>\n",
       "      <td>55.0</td>\n",
       "      <td>1.251916e+06</td>\n",
       "      <td>0.0</td>\n",
       "      <td>1</td>\n",
       "      <td>0.0000</td>\n",
       "      <td>-2360.0</td>\n",
       "      <td>1</td>\n",
       "      <td>0</td>\n",
       "      <td>0.000</td>\n",
       "      <td>177.0</td>\n",
       "      <td>...</td>\n",
       "      <td>0.0</td>\n",
       "      <td>30.00000</td>\n",
       "      <td>0.000000</td>\n",
       "      <td>1.000</td>\n",
       "      <td>1.000000</td>\n",
       "      <td>0.000000</td>\n",
       "      <td>1.000000</td>\n",
       "      <td>0.000000</td>\n",
       "      <td>1.000000</td>\n",
       "      <td>1.000000</td>\n",
       "    </tr>\n",
       "    <tr>\n",
       "      <th>4</th>\n",
       "      <td>39.0</td>\n",
       "      <td>2.266025e+05</td>\n",
       "      <td>0.0</td>\n",
       "      <td>0</td>\n",
       "      <td>-100870.2861</td>\n",
       "      <td>-88.0</td>\n",
       "      <td>1</td>\n",
       "      <td>0</td>\n",
       "      <td>-540.319</td>\n",
       "      <td>193.0</td>\n",
       "      <td>...</td>\n",
       "      <td>0.0</td>\n",
       "      <td>26.00000</td>\n",
       "      <td>1.000000</td>\n",
       "      <td>1.000</td>\n",
       "      <td>1.000000</td>\n",
       "      <td>0.000000</td>\n",
       "      <td>1.000000</td>\n",
       "      <td>0.000000</td>\n",
       "      <td>1.000000</td>\n",
       "      <td>0.000000</td>\n",
       "    </tr>\n",
       "  </tbody>\n",
       "</table>\n",
       "<p>5 rows × 30 columns</p>\n",
       "</div>"
      ],
      "text/plain": [
       "    age  continous_feature_1  continous_feature_2  continous_feature_3  \\\n",
       "0  24.0         5.740930e+05                  0.0                    0   \n",
       "1   6.0         2.270302e+04                  0.0                    0   \n",
       "2  28.0         1.192940e+05                  0.0                    0   \n",
       "3  55.0         1.251916e+06                  0.0                    1   \n",
       "4  39.0         2.266025e+05                  0.0                    0   \n",
       "\n",
       "   continous_feature_4  continous_feature_5  continous_feature_6  \\\n",
       "0               0.0000                  0.0                    0   \n",
       "1            -140.0000                  0.0                    0   \n",
       "2               0.0000               -894.0                    2   \n",
       "3               0.0000              -2360.0                    1   \n",
       "4         -100870.2861                -88.0                    1   \n",
       "\n",
       "   continous_feature_7  continous_feature_8  continous_feature_9  \\\n",
       "0                    0                0.000                249.0   \n",
       "1                    0                0.000                172.0   \n",
       "2                    0                0.000                180.0   \n",
       "3                    0                0.000                177.0   \n",
       "4                    0             -540.319                193.0   \n",
       "\n",
       "           ...           continous_feature_20  continous_feature_21  \\\n",
       "0          ...                            0.0              33.00000   \n",
       "1          ...                            0.0              37.12169   \n",
       "2          ...                            0.0              39.00000   \n",
       "3          ...                            0.0              30.00000   \n",
       "4          ...                            0.0              26.00000   \n",
       "\n",
       "   continous_feature_22  continous_feature_23  continous_feature_24  \\\n",
       "0              0.000000                 1.000              1.000000   \n",
       "1              0.254098                 0.864              0.827097   \n",
       "2              0.000000                 1.000              1.000000   \n",
       "3              0.000000                 1.000              1.000000   \n",
       "4              1.000000                 1.000              1.000000   \n",
       "\n",
       "   continous_feature_25  continous_feature_26  continous_feature_27  \\\n",
       "0              0.000000              1.000000              0.000000   \n",
       "1              0.046287              0.836451              0.161334   \n",
       "2              0.000000              1.000000              0.000000   \n",
       "3              0.000000              1.000000              0.000000   \n",
       "4              0.000000              1.000000              0.000000   \n",
       "\n",
       "   continous_feature_28  continous_feature_29  \n",
       "0              1.000000              1.000000  \n",
       "1              0.896515              1.233369  \n",
       "2              1.000000              1.000000  \n",
       "3              1.000000              1.000000  \n",
       "4              1.000000              0.000000  \n",
       "\n",
       "[5 rows x 30 columns]"
      ]
     },
     "execution_count": 41,
     "metadata": {},
     "output_type": "execute_result"
    }
   ],
   "source": [
    "X=data[X]\n",
    "X.head()"
   ]
  },
  {
   "cell_type": "code",
   "execution_count": 42,
   "metadata": {},
   "outputs": [
    {
     "data": {
      "text/plain": [
       "array([[4.17847335e-05, 9.99513480e-01, 0.00000000e+00, ...,\n",
       "        0.00000000e+00, 1.74103056e-06, 1.74103056e-06],\n",
       "       [2.64267621e-04, 9.99945657e-01, 0.00000000e+00, ...,\n",
       "        7.10589370e-06, 3.94866614e-05, 5.43232279e-05],\n",
       "       [2.34707359e-04, 9.99970701e-01, 0.00000000e+00, ...,\n",
       "        0.00000000e+00, 8.38240566e-06, 8.38240566e-06],\n",
       "       ...,\n",
       "       [7.90038319e-05, 9.39620091e-01, 4.08133796e-02, ...,\n",
       "        0.00000000e+00, 5.26692213e-06, 5.26692213e-06],\n",
       "       [1.69216156e-04, 9.99164187e-01, 0.00000000e+00, ...,\n",
       "        4.96369556e-07, 2.75827045e-06, 3.79465239e-06],\n",
       "       [3.33967929e-05, 9.99989036e-01, 0.00000000e+00, ...,\n",
       "        1.79601314e-06, 9.98024538e-06, 1.37301845e-05]])"
      ]
     },
     "execution_count": 42,
     "metadata": {},
     "output_type": "execute_result"
    }
   ],
   "source": [
    "# Normalize the data attributes for the Iris dataset.\n",
    "from sklearn import preprocessing\n",
    "# normalize the data attributes\n",
    "norm_X = preprocessing.normalize(X)\n",
    "norm_X"
   ]
  },
  {
   "cell_type": "markdown",
   "metadata": {},
   "source": [
    "### Coverting to dummy variables\n",
    "\n",
    "#### pandas gives you a great deal of control over how categorical variables are represented. We're going dummify the \"continous_feature\" column using get_dummies. Get_dummies creates a new DataFrame with binary indicator variables for each category/option in the column specified. "
   ]
  },
  {
   "cell_type": "code",
   "execution_count": 43,
   "metadata": {},
   "outputs": [
    {
     "data": {
      "text/html": [
       "<div>\n",
       "<style scoped>\n",
       "    .dataframe tbody tr th:only-of-type {\n",
       "        vertical-align: middle;\n",
       "    }\n",
       "\n",
       "    .dataframe tbody tr th {\n",
       "        vertical-align: top;\n",
       "    }\n",
       "\n",
       "    .dataframe thead th {\n",
       "        text-align: right;\n",
       "    }\n",
       "</style>\n",
       "<table border=\"1\" class=\"dataframe\">\n",
       "  <thead>\n",
       "    <tr style=\"text-align: right;\">\n",
       "      <th></th>\n",
       "      <th>continous_feature_3_0</th>\n",
       "      <th>continous_feature_3_1</th>\n",
       "      <th>continous_feature_3_2</th>\n",
       "      <th>continous_feature_3_3</th>\n",
       "      <th>continous_feature_3_4</th>\n",
       "      <th>continous_feature_3_5</th>\n",
       "      <th>continous_feature_3_6</th>\n",
       "      <th>continous_feature_3_7</th>\n",
       "      <th>continous_feature_3_8</th>\n",
       "      <th>continous_feature_3_9</th>\n",
       "      <th>...</th>\n",
       "      <th>continous_feature_3_11</th>\n",
       "      <th>continous_feature_3_12</th>\n",
       "      <th>continous_feature_3_13</th>\n",
       "      <th>continous_feature_3_16</th>\n",
       "      <th>continous_feature_3_18</th>\n",
       "      <th>continous_feature_3_19</th>\n",
       "      <th>continous_feature_3_22</th>\n",
       "      <th>continous_feature_3_41</th>\n",
       "      <th>continous_feature_3_48</th>\n",
       "      <th>continous_feature_3_110</th>\n",
       "    </tr>\n",
       "  </thead>\n",
       "  <tbody>\n",
       "    <tr>\n",
       "      <th>0</th>\n",
       "      <td>1</td>\n",
       "      <td>0</td>\n",
       "      <td>0</td>\n",
       "      <td>0</td>\n",
       "      <td>0</td>\n",
       "      <td>0</td>\n",
       "      <td>0</td>\n",
       "      <td>0</td>\n",
       "      <td>0</td>\n",
       "      <td>0</td>\n",
       "      <td>...</td>\n",
       "      <td>0</td>\n",
       "      <td>0</td>\n",
       "      <td>0</td>\n",
       "      <td>0</td>\n",
       "      <td>0</td>\n",
       "      <td>0</td>\n",
       "      <td>0</td>\n",
       "      <td>0</td>\n",
       "      <td>0</td>\n",
       "      <td>0</td>\n",
       "    </tr>\n",
       "    <tr>\n",
       "      <th>1</th>\n",
       "      <td>1</td>\n",
       "      <td>0</td>\n",
       "      <td>0</td>\n",
       "      <td>0</td>\n",
       "      <td>0</td>\n",
       "      <td>0</td>\n",
       "      <td>0</td>\n",
       "      <td>0</td>\n",
       "      <td>0</td>\n",
       "      <td>0</td>\n",
       "      <td>...</td>\n",
       "      <td>0</td>\n",
       "      <td>0</td>\n",
       "      <td>0</td>\n",
       "      <td>0</td>\n",
       "      <td>0</td>\n",
       "      <td>0</td>\n",
       "      <td>0</td>\n",
       "      <td>0</td>\n",
       "      <td>0</td>\n",
       "      <td>0</td>\n",
       "    </tr>\n",
       "    <tr>\n",
       "      <th>2</th>\n",
       "      <td>1</td>\n",
       "      <td>0</td>\n",
       "      <td>0</td>\n",
       "      <td>0</td>\n",
       "      <td>0</td>\n",
       "      <td>0</td>\n",
       "      <td>0</td>\n",
       "      <td>0</td>\n",
       "      <td>0</td>\n",
       "      <td>0</td>\n",
       "      <td>...</td>\n",
       "      <td>0</td>\n",
       "      <td>0</td>\n",
       "      <td>0</td>\n",
       "      <td>0</td>\n",
       "      <td>0</td>\n",
       "      <td>0</td>\n",
       "      <td>0</td>\n",
       "      <td>0</td>\n",
       "      <td>0</td>\n",
       "      <td>0</td>\n",
       "    </tr>\n",
       "    <tr>\n",
       "      <th>3</th>\n",
       "      <td>0</td>\n",
       "      <td>1</td>\n",
       "      <td>0</td>\n",
       "      <td>0</td>\n",
       "      <td>0</td>\n",
       "      <td>0</td>\n",
       "      <td>0</td>\n",
       "      <td>0</td>\n",
       "      <td>0</td>\n",
       "      <td>0</td>\n",
       "      <td>...</td>\n",
       "      <td>0</td>\n",
       "      <td>0</td>\n",
       "      <td>0</td>\n",
       "      <td>0</td>\n",
       "      <td>0</td>\n",
       "      <td>0</td>\n",
       "      <td>0</td>\n",
       "      <td>0</td>\n",
       "      <td>0</td>\n",
       "      <td>0</td>\n",
       "    </tr>\n",
       "    <tr>\n",
       "      <th>4</th>\n",
       "      <td>1</td>\n",
       "      <td>0</td>\n",
       "      <td>0</td>\n",
       "      <td>0</td>\n",
       "      <td>0</td>\n",
       "      <td>0</td>\n",
       "      <td>0</td>\n",
       "      <td>0</td>\n",
       "      <td>0</td>\n",
       "      <td>0</td>\n",
       "      <td>...</td>\n",
       "      <td>0</td>\n",
       "      <td>0</td>\n",
       "      <td>0</td>\n",
       "      <td>0</td>\n",
       "      <td>0</td>\n",
       "      <td>0</td>\n",
       "      <td>0</td>\n",
       "      <td>0</td>\n",
       "      <td>0</td>\n",
       "      <td>0</td>\n",
       "    </tr>\n",
       "  </tbody>\n",
       "</table>\n",
       "<p>5 rows × 21 columns</p>\n",
       "</div>"
      ],
      "text/plain": [
       "   continous_feature_3_0  continous_feature_3_1  continous_feature_3_2  \\\n",
       "0                      1                      0                      0   \n",
       "1                      1                      0                      0   \n",
       "2                      1                      0                      0   \n",
       "3                      0                      1                      0   \n",
       "4                      1                      0                      0   \n",
       "\n",
       "   continous_feature_3_3  continous_feature_3_4  continous_feature_3_5  \\\n",
       "0                      0                      0                      0   \n",
       "1                      0                      0                      0   \n",
       "2                      0                      0                      0   \n",
       "3                      0                      0                      0   \n",
       "4                      0                      0                      0   \n",
       "\n",
       "   continous_feature_3_6  continous_feature_3_7  continous_feature_3_8  \\\n",
       "0                      0                      0                      0   \n",
       "1                      0                      0                      0   \n",
       "2                      0                      0                      0   \n",
       "3                      0                      0                      0   \n",
       "4                      0                      0                      0   \n",
       "\n",
       "   continous_feature_3_9           ...             continous_feature_3_11  \\\n",
       "0                      0           ...                                  0   \n",
       "1                      0           ...                                  0   \n",
       "2                      0           ...                                  0   \n",
       "3                      0           ...                                  0   \n",
       "4                      0           ...                                  0   \n",
       "\n",
       "   continous_feature_3_12  continous_feature_3_13  continous_feature_3_16  \\\n",
       "0                       0                       0                       0   \n",
       "1                       0                       0                       0   \n",
       "2                       0                       0                       0   \n",
       "3                       0                       0                       0   \n",
       "4                       0                       0                       0   \n",
       "\n",
       "   continous_feature_3_18  continous_feature_3_19  continous_feature_3_22  \\\n",
       "0                       0                       0                       0   \n",
       "1                       0                       0                       0   \n",
       "2                       0                       0                       0   \n",
       "3                       0                       0                       0   \n",
       "4                       0                       0                       0   \n",
       "\n",
       "   continous_feature_3_41  continous_feature_3_48  continous_feature_3_110  \n",
       "0                       0                       0                        0  \n",
       "1                       0                       0                        0  \n",
       "2                       0                       0                        0  \n",
       "3                       0                       0                        0  \n",
       "4                       0                       0                        0  \n",
       "\n",
       "[5 rows x 21 columns]"
      ]
     },
     "execution_count": 43,
     "metadata": {},
     "output_type": "execute_result"
    }
   ],
   "source": [
    "# dummify boolian fature 3\n",
    "dummy_f3 = pd.get_dummies(X['continous_feature_3'], prefix='continous_feature_3')\n",
    "dummy_f3.head()"
   ]
  },
  {
   "cell_type": "code",
   "execution_count": 44,
   "metadata": {},
   "outputs": [
    {
     "data": {
      "text/plain": [
       "continous_feature_3_0      uint8\n",
       "continous_feature_3_1      uint8\n",
       "continous_feature_3_2      uint8\n",
       "continous_feature_3_3      uint8\n",
       "continous_feature_3_4      uint8\n",
       "continous_feature_3_5      uint8\n",
       "continous_feature_3_6      uint8\n",
       "continous_feature_3_7      uint8\n",
       "continous_feature_3_8      uint8\n",
       "continous_feature_3_9      uint8\n",
       "continous_feature_3_10     uint8\n",
       "continous_feature_3_11     uint8\n",
       "continous_feature_3_12     uint8\n",
       "continous_feature_3_13     uint8\n",
       "continous_feature_3_16     uint8\n",
       "continous_feature_3_18     uint8\n",
       "continous_feature_3_19     uint8\n",
       "continous_feature_3_22     uint8\n",
       "continous_feature_3_41     uint8\n",
       "continous_feature_3_48     uint8\n",
       "continous_feature_3_110    uint8\n",
       "dtype: object"
      ]
     },
     "execution_count": 44,
     "metadata": {},
     "output_type": "execute_result"
    }
   ],
   "source": [
    "dummy_f3.dtypes"
   ]
  },
  {
   "cell_type": "code",
   "execution_count": 45,
   "metadata": {},
   "outputs": [
    {
     "data": {
      "text/html": [
       "<div>\n",
       "<style scoped>\n",
       "    .dataframe tbody tr th:only-of-type {\n",
       "        vertical-align: middle;\n",
       "    }\n",
       "\n",
       "    .dataframe tbody tr th {\n",
       "        vertical-align: top;\n",
       "    }\n",
       "\n",
       "    .dataframe thead th {\n",
       "        text-align: right;\n",
       "    }\n",
       "</style>\n",
       "<table border=\"1\" class=\"dataframe\">\n",
       "  <thead>\n",
       "    <tr style=\"text-align: right;\">\n",
       "      <th></th>\n",
       "      <th>continous_feature_6_0</th>\n",
       "      <th>continous_feature_6_1</th>\n",
       "      <th>continous_feature_6_2</th>\n",
       "      <th>continous_feature_6_3</th>\n",
       "      <th>continous_feature_6_4</th>\n",
       "      <th>continous_feature_6_5</th>\n",
       "      <th>continous_feature_6_6</th>\n",
       "      <th>continous_feature_6_7</th>\n",
       "      <th>continous_feature_6_8</th>\n",
       "      <th>continous_feature_6_9</th>\n",
       "      <th>...</th>\n",
       "      <th>continous_feature_6_29</th>\n",
       "      <th>continous_feature_6_31</th>\n",
       "      <th>continous_feature_6_32</th>\n",
       "      <th>continous_feature_6_33</th>\n",
       "      <th>continous_feature_6_34</th>\n",
       "      <th>continous_feature_6_35</th>\n",
       "      <th>continous_feature_6_38</th>\n",
       "      <th>continous_feature_6_40</th>\n",
       "      <th>continous_feature_6_46</th>\n",
       "      <th>continous_feature_6_136</th>\n",
       "    </tr>\n",
       "  </thead>\n",
       "  <tbody>\n",
       "    <tr>\n",
       "      <th>0</th>\n",
       "      <td>1</td>\n",
       "      <td>0</td>\n",
       "      <td>0</td>\n",
       "      <td>0</td>\n",
       "      <td>0</td>\n",
       "      <td>0</td>\n",
       "      <td>0</td>\n",
       "      <td>0</td>\n",
       "      <td>0</td>\n",
       "      <td>0</td>\n",
       "      <td>...</td>\n",
       "      <td>0</td>\n",
       "      <td>0</td>\n",
       "      <td>0</td>\n",
       "      <td>0</td>\n",
       "      <td>0</td>\n",
       "      <td>0</td>\n",
       "      <td>0</td>\n",
       "      <td>0</td>\n",
       "      <td>0</td>\n",
       "      <td>0</td>\n",
       "    </tr>\n",
       "    <tr>\n",
       "      <th>1</th>\n",
       "      <td>1</td>\n",
       "      <td>0</td>\n",
       "      <td>0</td>\n",
       "      <td>0</td>\n",
       "      <td>0</td>\n",
       "      <td>0</td>\n",
       "      <td>0</td>\n",
       "      <td>0</td>\n",
       "      <td>0</td>\n",
       "      <td>0</td>\n",
       "      <td>...</td>\n",
       "      <td>0</td>\n",
       "      <td>0</td>\n",
       "      <td>0</td>\n",
       "      <td>0</td>\n",
       "      <td>0</td>\n",
       "      <td>0</td>\n",
       "      <td>0</td>\n",
       "      <td>0</td>\n",
       "      <td>0</td>\n",
       "      <td>0</td>\n",
       "    </tr>\n",
       "    <tr>\n",
       "      <th>2</th>\n",
       "      <td>0</td>\n",
       "      <td>0</td>\n",
       "      <td>1</td>\n",
       "      <td>0</td>\n",
       "      <td>0</td>\n",
       "      <td>0</td>\n",
       "      <td>0</td>\n",
       "      <td>0</td>\n",
       "      <td>0</td>\n",
       "      <td>0</td>\n",
       "      <td>...</td>\n",
       "      <td>0</td>\n",
       "      <td>0</td>\n",
       "      <td>0</td>\n",
       "      <td>0</td>\n",
       "      <td>0</td>\n",
       "      <td>0</td>\n",
       "      <td>0</td>\n",
       "      <td>0</td>\n",
       "      <td>0</td>\n",
       "      <td>0</td>\n",
       "    </tr>\n",
       "    <tr>\n",
       "      <th>3</th>\n",
       "      <td>0</td>\n",
       "      <td>1</td>\n",
       "      <td>0</td>\n",
       "      <td>0</td>\n",
       "      <td>0</td>\n",
       "      <td>0</td>\n",
       "      <td>0</td>\n",
       "      <td>0</td>\n",
       "      <td>0</td>\n",
       "      <td>0</td>\n",
       "      <td>...</td>\n",
       "      <td>0</td>\n",
       "      <td>0</td>\n",
       "      <td>0</td>\n",
       "      <td>0</td>\n",
       "      <td>0</td>\n",
       "      <td>0</td>\n",
       "      <td>0</td>\n",
       "      <td>0</td>\n",
       "      <td>0</td>\n",
       "      <td>0</td>\n",
       "    </tr>\n",
       "    <tr>\n",
       "      <th>4</th>\n",
       "      <td>0</td>\n",
       "      <td>1</td>\n",
       "      <td>0</td>\n",
       "      <td>0</td>\n",
       "      <td>0</td>\n",
       "      <td>0</td>\n",
       "      <td>0</td>\n",
       "      <td>0</td>\n",
       "      <td>0</td>\n",
       "      <td>0</td>\n",
       "      <td>...</td>\n",
       "      <td>0</td>\n",
       "      <td>0</td>\n",
       "      <td>0</td>\n",
       "      <td>0</td>\n",
       "      <td>0</td>\n",
       "      <td>0</td>\n",
       "      <td>0</td>\n",
       "      <td>0</td>\n",
       "      <td>0</td>\n",
       "      <td>0</td>\n",
       "    </tr>\n",
       "  </tbody>\n",
       "</table>\n",
       "<p>5 rows × 39 columns</p>\n",
       "</div>"
      ],
      "text/plain": [
       "   continous_feature_6_0  continous_feature_6_1  continous_feature_6_2  \\\n",
       "0                      1                      0                      0   \n",
       "1                      1                      0                      0   \n",
       "2                      0                      0                      1   \n",
       "3                      0                      1                      0   \n",
       "4                      0                      1                      0   \n",
       "\n",
       "   continous_feature_6_3  continous_feature_6_4  continous_feature_6_5  \\\n",
       "0                      0                      0                      0   \n",
       "1                      0                      0                      0   \n",
       "2                      0                      0                      0   \n",
       "3                      0                      0                      0   \n",
       "4                      0                      0                      0   \n",
       "\n",
       "   continous_feature_6_6  continous_feature_6_7  continous_feature_6_8  \\\n",
       "0                      0                      0                      0   \n",
       "1                      0                      0                      0   \n",
       "2                      0                      0                      0   \n",
       "3                      0                      0                      0   \n",
       "4                      0                      0                      0   \n",
       "\n",
       "   continous_feature_6_9           ...             continous_feature_6_29  \\\n",
       "0                      0           ...                                  0   \n",
       "1                      0           ...                                  0   \n",
       "2                      0           ...                                  0   \n",
       "3                      0           ...                                  0   \n",
       "4                      0           ...                                  0   \n",
       "\n",
       "   continous_feature_6_31  continous_feature_6_32  continous_feature_6_33  \\\n",
       "0                       0                       0                       0   \n",
       "1                       0                       0                       0   \n",
       "2                       0                       0                       0   \n",
       "3                       0                       0                       0   \n",
       "4                       0                       0                       0   \n",
       "\n",
       "   continous_feature_6_34  continous_feature_6_35  continous_feature_6_38  \\\n",
       "0                       0                       0                       0   \n",
       "1                       0                       0                       0   \n",
       "2                       0                       0                       0   \n",
       "3                       0                       0                       0   \n",
       "4                       0                       0                       0   \n",
       "\n",
       "   continous_feature_6_40  continous_feature_6_46  continous_feature_6_136  \n",
       "0                       0                       0                        0  \n",
       "1                       0                       0                        0  \n",
       "2                       0                       0                        0  \n",
       "3                       0                       0                        0  \n",
       "4                       0                       0                        0  \n",
       "\n",
       "[5 rows x 39 columns]"
      ]
     },
     "execution_count": 45,
     "metadata": {},
     "output_type": "execute_result"
    }
   ],
   "source": [
    "# dummify boolian fature 6\n",
    "dummy_f6 = pd.get_dummies(X['continous_feature_6'], prefix='continous_feature_6')\n",
    "dummy_f6.head()"
   ]
  },
  {
   "cell_type": "code",
   "execution_count": 46,
   "metadata": {},
   "outputs": [
    {
     "data": {
      "text/html": [
       "<div>\n",
       "<style scoped>\n",
       "    .dataframe tbody tr th:only-of-type {\n",
       "        vertical-align: middle;\n",
       "    }\n",
       "\n",
       "    .dataframe tbody tr th {\n",
       "        vertical-align: top;\n",
       "    }\n",
       "\n",
       "    .dataframe thead th {\n",
       "        text-align: right;\n",
       "    }\n",
       "</style>\n",
       "<table border=\"1\" class=\"dataframe\">\n",
       "  <thead>\n",
       "    <tr style=\"text-align: right;\">\n",
       "      <th></th>\n",
       "      <th>continous_feature_7_-100100</th>\n",
       "      <th>continous_feature_7_-8965</th>\n",
       "      <th>continous_feature_7_-5246</th>\n",
       "      <th>continous_feature_7_-3779</th>\n",
       "      <th>continous_feature_7_-2000</th>\n",
       "      <th>continous_feature_7_-1309</th>\n",
       "      <th>continous_feature_7_-1007</th>\n",
       "      <th>continous_feature_7_-493</th>\n",
       "      <th>continous_feature_7_0</th>\n",
       "    </tr>\n",
       "  </thead>\n",
       "  <tbody>\n",
       "    <tr>\n",
       "      <th>0</th>\n",
       "      <td>0</td>\n",
       "      <td>0</td>\n",
       "      <td>0</td>\n",
       "      <td>0</td>\n",
       "      <td>0</td>\n",
       "      <td>0</td>\n",
       "      <td>0</td>\n",
       "      <td>0</td>\n",
       "      <td>1</td>\n",
       "    </tr>\n",
       "    <tr>\n",
       "      <th>1</th>\n",
       "      <td>0</td>\n",
       "      <td>0</td>\n",
       "      <td>0</td>\n",
       "      <td>0</td>\n",
       "      <td>0</td>\n",
       "      <td>0</td>\n",
       "      <td>0</td>\n",
       "      <td>0</td>\n",
       "      <td>1</td>\n",
       "    </tr>\n",
       "    <tr>\n",
       "      <th>2</th>\n",
       "      <td>0</td>\n",
       "      <td>0</td>\n",
       "      <td>0</td>\n",
       "      <td>0</td>\n",
       "      <td>0</td>\n",
       "      <td>0</td>\n",
       "      <td>0</td>\n",
       "      <td>0</td>\n",
       "      <td>1</td>\n",
       "    </tr>\n",
       "    <tr>\n",
       "      <th>3</th>\n",
       "      <td>0</td>\n",
       "      <td>0</td>\n",
       "      <td>0</td>\n",
       "      <td>0</td>\n",
       "      <td>0</td>\n",
       "      <td>0</td>\n",
       "      <td>0</td>\n",
       "      <td>0</td>\n",
       "      <td>1</td>\n",
       "    </tr>\n",
       "    <tr>\n",
       "      <th>4</th>\n",
       "      <td>0</td>\n",
       "      <td>0</td>\n",
       "      <td>0</td>\n",
       "      <td>0</td>\n",
       "      <td>0</td>\n",
       "      <td>0</td>\n",
       "      <td>0</td>\n",
       "      <td>0</td>\n",
       "      <td>1</td>\n",
       "    </tr>\n",
       "  </tbody>\n",
       "</table>\n",
       "</div>"
      ],
      "text/plain": [
       "   continous_feature_7_-100100  continous_feature_7_-8965  \\\n",
       "0                            0                          0   \n",
       "1                            0                          0   \n",
       "2                            0                          0   \n",
       "3                            0                          0   \n",
       "4                            0                          0   \n",
       "\n",
       "   continous_feature_7_-5246  continous_feature_7_-3779  \\\n",
       "0                          0                          0   \n",
       "1                          0                          0   \n",
       "2                          0                          0   \n",
       "3                          0                          0   \n",
       "4                          0                          0   \n",
       "\n",
       "   continous_feature_7_-2000  continous_feature_7_-1309  \\\n",
       "0                          0                          0   \n",
       "1                          0                          0   \n",
       "2                          0                          0   \n",
       "3                          0                          0   \n",
       "4                          0                          0   \n",
       "\n",
       "   continous_feature_7_-1007  continous_feature_7_-493  continous_feature_7_0  \n",
       "0                          0                         0                      1  \n",
       "1                          0                         0                      1  \n",
       "2                          0                         0                      1  \n",
       "3                          0                         0                      1  \n",
       "4                          0                         0                      1  "
      ]
     },
     "execution_count": 46,
     "metadata": {},
     "output_type": "execute_result"
    }
   ],
   "source": [
    "# dummify boolian fature 7\n",
    "dummy_f7 = pd.get_dummies(X['continous_feature_7'], prefix='continous_feature_7')\n",
    "dummy_f7.head()"
   ]
  },
  {
   "cell_type": "code",
   "execution_count": 47,
   "metadata": {},
   "outputs": [],
   "source": [
    "cols_to_keep = ['age',\n",
    " 'continous_feature_1',\n",
    " 'continous_feature_2',\n",
    " 'continous_feature_4',\n",
    " 'continous_feature_5',\n",
    " 'continous_feature_8',\n",
    " 'continous_feature_9',\n",
    " 'continous_feature_10',\n",
    " 'continous_feature_11',\n",
    " 'continous_feature_12',\n",
    " 'continous_feature_13',\n",
    " 'continous_feature_14',\n",
    " 'continous_feature_15',\n",
    " 'continous_feature_16',\n",
    " 'continous_feature_17',\n",
    " 'continous_feature_18',\n",
    " 'continous_feature_19',\n",
    " 'continous_feature_20',\n",
    " 'continous_feature_21',\n",
    " 'continous_feature_22',\n",
    " 'continous_feature_23',\n",
    " 'continous_feature_24',\n",
    " 'continous_feature_25',\n",
    " 'continous_feature_26',\n",
    " 'continous_feature_27',\n",
    " 'continous_feature_28',\n",
    " 'continous_feature_29']\n"
   ]
  },
  {
   "cell_type": "code",
   "execution_count": 48,
   "metadata": {},
   "outputs": [
    {
     "name": "stderr",
     "output_type": "stream",
     "text": [
      "/usr/local/lib/python3.6/site-packages/ipykernel_launcher.py:1: DeprecationWarning: \n",
      ".ix is deprecated. Please use\n",
      ".loc for label based indexing or\n",
      ".iloc for positional indexing\n",
      "\n",
      "See the documentation here:\n",
      "http://pandas.pydata.org/pandas-docs/stable/indexing.html#ix-indexer-is-deprecated\n",
      "  \"\"\"Entry point for launching an IPython kernel.\n",
      "/usr/local/lib/python3.6/site-packages/ipykernel_launcher.py:2: DeprecationWarning: \n",
      ".ix is deprecated. Please use\n",
      ".loc for label based indexing or\n",
      ".iloc for positional indexing\n",
      "\n",
      "See the documentation here:\n",
      "http://pandas.pydata.org/pandas-docs/stable/indexing.html#ix-indexer-is-deprecated\n",
      "  \n",
      "/usr/local/lib/python3.6/site-packages/ipykernel_launcher.py:3: DeprecationWarning: \n",
      ".ix is deprecated. Please use\n",
      ".loc for label based indexing or\n",
      ".iloc for positional indexing\n",
      "\n",
      "See the documentation here:\n",
      "http://pandas.pydata.org/pandas-docs/stable/indexing.html#ix-indexer-is-deprecated\n",
      "  This is separate from the ipykernel package so we can avoid doing imports until\n"
     ]
    }
   ],
   "source": [
    "datax = data[cols_to_keep].join(dummy_f3.ix[:, 'continous_feature_3_0':])\n",
    "datax1= datax.join(dummy_f6.ix[:, 'continous_feature_6_0':])\n",
    "datax2= datax1.join(dummy_f7.ix[:, 'continous_feature_7_-100100':])"
   ]
  },
  {
   "cell_type": "code",
   "execution_count": 49,
   "metadata": {
    "scrolled": true
   },
   "outputs": [
    {
     "data": {
      "text/html": [
       "<div>\n",
       "<style scoped>\n",
       "    .dataframe tbody tr th:only-of-type {\n",
       "        vertical-align: middle;\n",
       "    }\n",
       "\n",
       "    .dataframe tbody tr th {\n",
       "        vertical-align: top;\n",
       "    }\n",
       "\n",
       "    .dataframe thead th {\n",
       "        text-align: right;\n",
       "    }\n",
       "</style>\n",
       "<table border=\"1\" class=\"dataframe\">\n",
       "  <thead>\n",
       "    <tr style=\"text-align: right;\">\n",
       "      <th></th>\n",
       "      <th>age</th>\n",
       "      <th>continous_feature_1</th>\n",
       "      <th>continous_feature_2</th>\n",
       "      <th>continous_feature_4</th>\n",
       "      <th>continous_feature_5</th>\n",
       "      <th>continous_feature_8</th>\n",
       "      <th>continous_feature_9</th>\n",
       "      <th>continous_feature_10</th>\n",
       "      <th>continous_feature_11</th>\n",
       "      <th>continous_feature_12</th>\n",
       "      <th>...</th>\n",
       "      <th>continous_feature_6_136</th>\n",
       "      <th>continous_feature_7_-100100</th>\n",
       "      <th>continous_feature_7_-8965</th>\n",
       "      <th>continous_feature_7_-5246</th>\n",
       "      <th>continous_feature_7_-3779</th>\n",
       "      <th>continous_feature_7_-2000</th>\n",
       "      <th>continous_feature_7_-1309</th>\n",
       "      <th>continous_feature_7_-1007</th>\n",
       "      <th>continous_feature_7_-493</th>\n",
       "      <th>continous_feature_7_0</th>\n",
       "    </tr>\n",
       "  </thead>\n",
       "  <tbody>\n",
       "    <tr>\n",
       "      <th>0</th>\n",
       "      <td>24.0</td>\n",
       "      <td>5.740930e+05</td>\n",
       "      <td>0.0</td>\n",
       "      <td>0.0000</td>\n",
       "      <td>0.0</td>\n",
       "      <td>0.000</td>\n",
       "      <td>249.0</td>\n",
       "      <td>0.0</td>\n",
       "      <td>4452.164684</td>\n",
       "      <td>-11884.988791</td>\n",
       "      <td>...</td>\n",
       "      <td>0</td>\n",
       "      <td>0</td>\n",
       "      <td>0</td>\n",
       "      <td>0</td>\n",
       "      <td>0</td>\n",
       "      <td>0</td>\n",
       "      <td>0</td>\n",
       "      <td>0</td>\n",
       "      <td>0</td>\n",
       "      <td>1</td>\n",
       "    </tr>\n",
       "    <tr>\n",
       "      <th>1</th>\n",
       "      <td>6.0</td>\n",
       "      <td>2.270302e+04</td>\n",
       "      <td>0.0</td>\n",
       "      <td>-140.0000</td>\n",
       "      <td>0.0</td>\n",
       "      <td>0.000</td>\n",
       "      <td>172.0</td>\n",
       "      <td>0.0</td>\n",
       "      <td>-36.810000</td>\n",
       "      <td>-36.810000</td>\n",
       "      <td>...</td>\n",
       "      <td>0</td>\n",
       "      <td>0</td>\n",
       "      <td>0</td>\n",
       "      <td>0</td>\n",
       "      <td>0</td>\n",
       "      <td>0</td>\n",
       "      <td>0</td>\n",
       "      <td>0</td>\n",
       "      <td>0</td>\n",
       "      <td>1</td>\n",
       "    </tr>\n",
       "    <tr>\n",
       "      <th>2</th>\n",
       "      <td>28.0</td>\n",
       "      <td>1.192940e+05</td>\n",
       "      <td>0.0</td>\n",
       "      <td>0.0000</td>\n",
       "      <td>-894.0</td>\n",
       "      <td>0.000</td>\n",
       "      <td>180.0</td>\n",
       "      <td>0.0</td>\n",
       "      <td>0.000000</td>\n",
       "      <td>0.000000</td>\n",
       "      <td>...</td>\n",
       "      <td>0</td>\n",
       "      <td>0</td>\n",
       "      <td>0</td>\n",
       "      <td>0</td>\n",
       "      <td>0</td>\n",
       "      <td>0</td>\n",
       "      <td>0</td>\n",
       "      <td>0</td>\n",
       "      <td>0</td>\n",
       "      <td>1</td>\n",
       "    </tr>\n",
       "    <tr>\n",
       "      <th>3</th>\n",
       "      <td>55.0</td>\n",
       "      <td>1.251916e+06</td>\n",
       "      <td>0.0</td>\n",
       "      <td>0.0000</td>\n",
       "      <td>-2360.0</td>\n",
       "      <td>0.000</td>\n",
       "      <td>177.0</td>\n",
       "      <td>0.0</td>\n",
       "      <td>1707.995365</td>\n",
       "      <td>1707.995365</td>\n",
       "      <td>...</td>\n",
       "      <td>0</td>\n",
       "      <td>0</td>\n",
       "      <td>0</td>\n",
       "      <td>0</td>\n",
       "      <td>0</td>\n",
       "      <td>0</td>\n",
       "      <td>0</td>\n",
       "      <td>0</td>\n",
       "      <td>0</td>\n",
       "      <td>1</td>\n",
       "    </tr>\n",
       "    <tr>\n",
       "      <th>4</th>\n",
       "      <td>39.0</td>\n",
       "      <td>2.266025e+05</td>\n",
       "      <td>0.0</td>\n",
       "      <td>-100870.2861</td>\n",
       "      <td>-88.0</td>\n",
       "      <td>-540.319</td>\n",
       "      <td>193.0</td>\n",
       "      <td>0.0</td>\n",
       "      <td>90.041882</td>\n",
       "      <td>90.041882</td>\n",
       "      <td>...</td>\n",
       "      <td>0</td>\n",
       "      <td>0</td>\n",
       "      <td>0</td>\n",
       "      <td>0</td>\n",
       "      <td>0</td>\n",
       "      <td>0</td>\n",
       "      <td>0</td>\n",
       "      <td>0</td>\n",
       "      <td>0</td>\n",
       "      <td>1</td>\n",
       "    </tr>\n",
       "  </tbody>\n",
       "</table>\n",
       "<p>5 rows × 96 columns</p>\n",
       "</div>"
      ],
      "text/plain": [
       "    age  continous_feature_1  continous_feature_2  continous_feature_4  \\\n",
       "0  24.0         5.740930e+05                  0.0               0.0000   \n",
       "1   6.0         2.270302e+04                  0.0            -140.0000   \n",
       "2  28.0         1.192940e+05                  0.0               0.0000   \n",
       "3  55.0         1.251916e+06                  0.0               0.0000   \n",
       "4  39.0         2.266025e+05                  0.0         -100870.2861   \n",
       "\n",
       "   continous_feature_5  continous_feature_8  continous_feature_9  \\\n",
       "0                  0.0                0.000                249.0   \n",
       "1                  0.0                0.000                172.0   \n",
       "2               -894.0                0.000                180.0   \n",
       "3              -2360.0                0.000                177.0   \n",
       "4                -88.0             -540.319                193.0   \n",
       "\n",
       "   continous_feature_10  continous_feature_11  continous_feature_12  \\\n",
       "0                   0.0           4452.164684         -11884.988791   \n",
       "1                   0.0            -36.810000            -36.810000   \n",
       "2                   0.0              0.000000              0.000000   \n",
       "3                   0.0           1707.995365           1707.995365   \n",
       "4                   0.0             90.041882             90.041882   \n",
       "\n",
       "           ...            continous_feature_6_136  \\\n",
       "0          ...                                  0   \n",
       "1          ...                                  0   \n",
       "2          ...                                  0   \n",
       "3          ...                                  0   \n",
       "4          ...                                  0   \n",
       "\n",
       "   continous_feature_7_-100100  continous_feature_7_-8965  \\\n",
       "0                            0                          0   \n",
       "1                            0                          0   \n",
       "2                            0                          0   \n",
       "3                            0                          0   \n",
       "4                            0                          0   \n",
       "\n",
       "   continous_feature_7_-5246  continous_feature_7_-3779  \\\n",
       "0                          0                          0   \n",
       "1                          0                          0   \n",
       "2                          0                          0   \n",
       "3                          0                          0   \n",
       "4                          0                          0   \n",
       "\n",
       "   continous_feature_7_-2000  continous_feature_7_-1309  \\\n",
       "0                          0                          0   \n",
       "1                          0                          0   \n",
       "2                          0                          0   \n",
       "3                          0                          0   \n",
       "4                          0                          0   \n",
       "\n",
       "   continous_feature_7_-1007  continous_feature_7_-493  continous_feature_7_0  \n",
       "0                          0                         0                      1  \n",
       "1                          0                         0                      1  \n",
       "2                          0                         0                      1  \n",
       "3                          0                         0                      1  \n",
       "4                          0                         0                      1  \n",
       "\n",
       "[5 rows x 96 columns]"
      ]
     },
     "execution_count": 49,
     "metadata": {},
     "output_type": "execute_result"
    }
   ],
   "source": [
    "datax2.head()"
   ]
  },
  {
   "cell_type": "code",
   "execution_count": 50,
   "metadata": {},
   "outputs": [
    {
     "name": "stdout",
     "output_type": "stream",
     "text": [
      "age                            0\n",
      "continous_feature_1            0\n",
      "continous_feature_2            0\n",
      "continous_feature_4            0\n",
      "continous_feature_5            0\n",
      "continous_feature_8            0\n",
      "continous_feature_9            0\n",
      "continous_feature_10           0\n",
      "continous_feature_11           0\n",
      "continous_feature_12           0\n",
      "continous_feature_13           0\n",
      "continous_feature_14           0\n",
      "continous_feature_15           0\n",
      "continous_feature_16           0\n",
      "continous_feature_17           0\n",
      "continous_feature_18           0\n",
      "continous_feature_19           0\n",
      "continous_feature_20           0\n",
      "continous_feature_21           0\n",
      "continous_feature_22           0\n",
      "continous_feature_23           0\n",
      "continous_feature_24           0\n",
      "continous_feature_25           0\n",
      "continous_feature_26           0\n",
      "continous_feature_27           0\n",
      "continous_feature_28           0\n",
      "continous_feature_29           0\n",
      "continous_feature_3_0          0\n",
      "continous_feature_3_1          0\n",
      "continous_feature_3_2          0\n",
      "                              ..\n",
      "continous_feature_6_18         0\n",
      "continous_feature_6_19         0\n",
      "continous_feature_6_20         0\n",
      "continous_feature_6_21         0\n",
      "continous_feature_6_22         0\n",
      "continous_feature_6_23         0\n",
      "continous_feature_6_24         0\n",
      "continous_feature_6_25         0\n",
      "continous_feature_6_26         0\n",
      "continous_feature_6_27         0\n",
      "continous_feature_6_28         0\n",
      "continous_feature_6_29         0\n",
      "continous_feature_6_31         0\n",
      "continous_feature_6_32         0\n",
      "continous_feature_6_33         0\n",
      "continous_feature_6_34         0\n",
      "continous_feature_6_35         0\n",
      "continous_feature_6_38         0\n",
      "continous_feature_6_40         0\n",
      "continous_feature_6_46         0\n",
      "continous_feature_6_136        0\n",
      "continous_feature_7_-100100    0\n",
      "continous_feature_7_-8965      0\n",
      "continous_feature_7_-5246      0\n",
      "continous_feature_7_-3779      0\n",
      "continous_feature_7_-2000      0\n",
      "continous_feature_7_-1309      0\n",
      "continous_feature_7_-1007      0\n",
      "continous_feature_7_-493       0\n",
      "continous_feature_7_0          0\n",
      "Length: 96, dtype: int64\n"
     ]
    }
   ],
   "source": [
    "# imputation using mean\n",
    "\n",
    "# fill missing values with mean column values\n",
    "datax2.fillna(data.mean(), inplace=True)\n",
    "\n",
    "# count the number of NaN values in each column\n",
    "print(datax2.isnull().sum())\n"
   ]
  },
  {
   "cell_type": "markdown",
   "metadata": {},
   "source": [
    "##### Feature Selection\n",
    "##### Recursive Feature Elimination (RFE) is based on the idea to repeatedly construct a model and choose either the best or worst performing feature, setting the feature aside and then repeating the process with the rest of the features. This process is applied until all features in the dataset are exhausted. The goal of RFE is to select features by recursively considering smaller and smaller sets of features."
   ]
  },
  {
   "cell_type": "code",
   "execution_count": 51,
   "metadata": {},
   "outputs": [],
   "source": [
    "from sklearn import datasets\n",
    "from sklearn.feature_selection import RFE\n",
    "from sklearn.linear_model import LogisticRegression\n"
   ]
  },
  {
   "cell_type": "code",
   "execution_count": 52,
   "metadata": {
    "scrolled": true
   },
   "outputs": [
    {
     "name": "stdout",
     "output_type": "stream",
     "text": [
      "[False False False False False False False False False False False  True\n",
      " False  True  True False False False False False False False  True False\n",
      "  True False False False False False  True  True  True False False  True\n",
      "  True  True  True  True False  True  True False  True  True  True  True\n",
      "  True False False  True False False False False False False False  True\n",
      " False  True False  True False  True False  True  True  True  True False\n",
      "  True False False  True  True False  True  True  True False  True  True\n",
      "  True  True  True False  True  True  True  True  True  True  True  True]\n",
      "[28 48 49 47 46 45 27 43 30 32 29  1 31  1  1 24 42 44 35 21  9 19  1 38\n",
      "  1 15 26  4  6  3  1  1  1  5 40  1  1  1  1  1 25  1  1 41  1  1  1  1\n",
      "  1 18 23  1 22 37 16  2 17 20 14  1  7  1 13  1 33  1 11  1  1  1  1 34\n",
      "  1 10  8  1  1 39  1  1  1 12  1  1  1  1  1 36  1  1  1  1  1  1  1  1]\n"
     ]
    }
   ],
   "source": [
    "logreg = LogisticRegression()\n",
    "\n",
    "rfe = RFE(logreg)\n",
    "rfe = rfe.fit(datax2, data[y].values.ravel())\n",
    "print(rfe.support_)\n",
    "print(rfe.ranking_)\n",
    "XX =rfe.support_"
   ]
  },
  {
   "cell_type": "markdown",
   "metadata": {},
   "source": [
    "### Implementing the model"
   ]
  },
  {
   "cell_type": "code",
   "execution_count": 53,
   "metadata": {},
   "outputs": [
    {
     "data": {
      "text/plain": [
       "['expert_opinion']"
      ]
     },
     "execution_count": 53,
     "metadata": {},
     "output_type": "execute_result"
    }
   ],
   "source": [
    "y"
   ]
  },
  {
   "cell_type": "code",
   "execution_count": 54,
   "metadata": {},
   "outputs": [
    {
     "name": "stdout",
     "output_type": "stream",
     "text": [
      "['continous_feature_14', 'continous_feature_16', 'continous_feature_17', 'continous_feature_25', 'continous_feature_27', 'continous_feature_3_3', 'continous_feature_3_4', 'continous_feature_3_5', 'continous_feature_3_8', 'continous_feature_3_9', 'continous_feature_3_10', 'continous_feature_3_11', 'continous_feature_3_12', 'continous_feature_3_16', 'continous_feature_3_18', 'continous_feature_3_22', 'continous_feature_3_41', 'continous_feature_3_48', 'continous_feature_3_110', 'continous_feature_6_0', 'continous_feature_6_3', 'continous_feature_6_11', 'continous_feature_6_13', 'continous_feature_6_15', 'continous_feature_6_17', 'continous_feature_6_19', 'continous_feature_6_20', 'continous_feature_6_21', 'continous_feature_6_22', 'continous_feature_6_24', 'continous_feature_6_27', 'continous_feature_6_28', 'continous_feature_6_31', 'continous_feature_6_32', 'continous_feature_6_33', 'continous_feature_6_35', 'continous_feature_6_38', 'continous_feature_6_40', 'continous_feature_6_46', 'continous_feature_6_136', 'continous_feature_7_-8965', 'continous_feature_7_-5246', 'continous_feature_7_-3779', 'continous_feature_7_-2000', 'continous_feature_7_-1309', 'continous_feature_7_-1007', 'continous_feature_7_-493', 'continous_feature_7_0']\n"
     ]
    }
   ],
   "source": [
    "#result1 = [x for x, y1 in zip(X, XX) if y1 == 'True']\n",
    "l1 = [x for i,x in enumerate(datax2) if XX[i]]\n",
    "print(l1)"
   ]
  },
  {
   "cell_type": "code",
   "execution_count": 175,
   "metadata": {},
   "outputs": [
    {
     "name": "stderr",
     "output_type": "stream",
     "text": [
      "/usr/local/lib/python3.6/site-packages/ipykernel_launcher.py:4: SettingWithCopyWarning: \n",
      "A value is trying to be set on a copy of a slice from a DataFrame.\n",
      "Try using .loc[row_indexer,col_indexer] = value instead\n",
      "\n",
      "See the caveats in the documentation: http://pandas.pydata.org/pandas-docs/stable/indexing.html#indexing-view-versus-copy\n",
      "  after removing the cwd from sys.path.\n"
     ]
    }
   ],
   "source": [
    "X1=datax2[l1]\n",
    "y1=data[y]\n",
    "X1, y1\n",
    "X1['intercept'] = 1.0"
   ]
  },
  {
   "cell_type": "code",
   "execution_count": 176,
   "metadata": {},
   "outputs": [
    {
     "name": "stderr",
     "output_type": "stream",
     "text": [
      "/usr/local/lib/python3.6/site-packages/ipykernel_launcher.py:1: SettingWithCopyWarning: \n",
      "A value is trying to be set on a copy of a slice from a DataFrame.\n",
      "Try using .loc[row_indexer,col_indexer] = value instead\n",
      "\n",
      "See the caveats in the documentation: http://pandas.pydata.org/pandas-docs/stable/indexing.html#indexing-view-versus-copy\n",
      "  \"\"\"Entry point for launching an IPython kernel.\n",
      "/usr/local/lib/python3.6/site-packages/pandas/core/indexing.py:537: SettingWithCopyWarning: \n",
      "A value is trying to be set on a copy of a slice from a DataFrame.\n",
      "Try using .loc[row_indexer,col_indexer] = value instead\n",
      "\n",
      "See the caveats in the documentation: http://pandas.pydata.org/pandas-docs/stable/indexing.html#indexing-view-versus-copy\n",
      "  self.obj[item] = s\n"
     ]
    },
    {
     "name": "stdout",
     "output_type": "stream",
     "text": [
      "continous_feature_14         float64\n",
      "continous_feature_16         float64\n",
      "continous_feature_17         float64\n",
      "continous_feature_25         float64\n",
      "continous_feature_27         float64\n",
      "continous_feature_3_3        float64\n",
      "continous_feature_3_4        float64\n",
      "continous_feature_3_5        float64\n",
      "continous_feature_3_8        float64\n",
      "continous_feature_3_9        float64\n",
      "continous_feature_3_10       float64\n",
      "continous_feature_3_11       float64\n",
      "continous_feature_3_12       float64\n",
      "continous_feature_3_16       float64\n",
      "continous_feature_3_18       float64\n",
      "continous_feature_3_22       float64\n",
      "continous_feature_3_41       float64\n",
      "continous_feature_3_48       float64\n",
      "continous_feature_3_110      float64\n",
      "continous_feature_6_0        float64\n",
      "continous_feature_6_3        float64\n",
      "continous_feature_6_11       float64\n",
      "continous_feature_6_13       float64\n",
      "continous_feature_6_15       float64\n",
      "continous_feature_6_17       float64\n",
      "continous_feature_6_19       float64\n",
      "continous_feature_6_20       float64\n",
      "continous_feature_6_21       float64\n",
      "continous_feature_6_22       float64\n",
      "continous_feature_6_24       float64\n",
      "continous_feature_6_27       float64\n",
      "continous_feature_6_28       float64\n",
      "continous_feature_6_31       float64\n",
      "continous_feature_6_32       float64\n",
      "continous_feature_6_33       float64\n",
      "continous_feature_6_35       float64\n",
      "continous_feature_6_38       float64\n",
      "continous_feature_6_40       float64\n",
      "continous_feature_6_46       float64\n",
      "continous_feature_6_136      float64\n",
      "continous_feature_7_-8965    float64\n",
      "continous_feature_7_-5246    float64\n",
      "continous_feature_7_-3779    float64\n",
      "continous_feature_7_-2000    float64\n",
      "continous_feature_7_-1309    float64\n",
      "continous_feature_7_-1007    float64\n",
      "continous_feature_7_-493     float64\n",
      "continous_feature_7_0        float64\n",
      "intercept                    float64\n",
      "dtype: object\n"
     ]
    },
    {
     "data": {
      "text/plain": [
       "Index(['continous_feature_14', 'continous_feature_16', 'continous_feature_17',\n",
       "       'continous_feature_25', 'continous_feature_27', 'continous_feature_3_3',\n",
       "       'continous_feature_3_4', 'continous_feature_3_5',\n",
       "       'continous_feature_3_8', 'continous_feature_3_9',\n",
       "       'continous_feature_3_10', 'continous_feature_3_11',\n",
       "       'continous_feature_3_12', 'continous_feature_3_16',\n",
       "       'continous_feature_3_18', 'continous_feature_3_22',\n",
       "       'continous_feature_3_41', 'continous_feature_3_48',\n",
       "       'continous_feature_3_110', 'continous_feature_6_0',\n",
       "       'continous_feature_6_3', 'continous_feature_6_11',\n",
       "       'continous_feature_6_13', 'continous_feature_6_15',\n",
       "       'continous_feature_6_17', 'continous_feature_6_19',\n",
       "       'continous_feature_6_20', 'continous_feature_6_21',\n",
       "       'continous_feature_6_22', 'continous_feature_6_24',\n",
       "       'continous_feature_6_27', 'continous_feature_6_28',\n",
       "       'continous_feature_6_31', 'continous_feature_6_32',\n",
       "       'continous_feature_6_33', 'continous_feature_6_35',\n",
       "       'continous_feature_6_38', 'continous_feature_6_40',\n",
       "       'continous_feature_6_46', 'continous_feature_6_136',\n",
       "       'continous_feature_7_-8965', 'continous_feature_7_-5246',\n",
       "       'continous_feature_7_-3779', 'continous_feature_7_-2000',\n",
       "       'continous_feature_7_-1309', 'continous_feature_7_-1007',\n",
       "       'continous_feature_7_-493', 'continous_feature_7_0', 'intercept'],\n",
       "      dtype='object')"
      ]
     },
     "execution_count": 176,
     "metadata": {},
     "output_type": "execute_result"
    }
   ],
   "source": [
    "X1[0:]= X1[0:].astype(float)\n",
    "#drinks['beer_servings'] = drinks.beer_servings.astype(float)\n",
    "print(X1.dtypes)\n",
    "X1.head\n",
    "X1.columns"
   ]
  },
  {
   "cell_type": "code",
   "execution_count": 179,
   "metadata": {},
   "outputs": [],
   "source": [
    "aa=X1[['continous_feature_16', 'continous_feature_6_28', 'continous_feature_17','continous_feature_3_11','continous_feature_25','continous_feature_6_33','continous_feature_7_-3779','continous_feature_7_0','intercept']]"
   ]
  },
  {
   "cell_type": "code",
   "execution_count": 180,
   "metadata": {},
   "outputs": [
    {
     "name": "stdout",
     "output_type": "stream",
     "text": [
      "Warning: Maximum number of iterations has been exceeded.\n",
      "         Current function value: 0.655623\n",
      "         Iterations: 35\n",
      "                           Logit Regression Results                           \n",
      "==============================================================================\n",
      "Dep. Variable:         expert_opinion   No. Observations:                 2656\n",
      "Model:                          Logit   Df Residuals:                     2647\n",
      "Method:                           MLE   Df Model:                            8\n",
      "Date:                Tue, 01 May 2018   Pseudo R-squ.:                 0.04843\n",
      "Time:                        16:54:13   Log-Likelihood:                -1741.3\n",
      "converged:                      False   LL-Null:                       -1830.0\n",
      "                                        LLR p-value:                 3.892e-34\n",
      "=============================================================================================\n",
      "                                coef    std err          z      P>|z|      [0.025      0.975]\n",
      "---------------------------------------------------------------------------------------------\n",
      "continous_feature_16          0.8308      0.182      4.563      0.000       0.474       1.188\n",
      "continous_feature_6_28        1.0782      1.157      0.932      0.352      -1.190       3.347\n",
      "continous_feature_17          0.4596      0.061      7.493      0.000       0.339       0.580\n",
      "continous_feature_3_11       -5.6671      8.252     -0.687      0.492     -21.842      10.507\n",
      "continous_feature_25          0.9262      0.253      3.660      0.000       0.430       1.422\n",
      "continous_feature_6_33       19.6442   1.94e+04      0.001      0.999    -3.8e+04    3.81e+04\n",
      "continous_feature_7_-3779   -12.4751    296.958     -0.042      0.966    -594.501     569.551\n",
      "continous_feature_7_0        -1.1437      0.818     -1.399      0.162      -2.746       0.459\n",
      "intercept                     1.0880      0.817      1.332      0.183      -0.512       2.688\n",
      "=============================================================================================\n"
     ]
    },
    {
     "name": "stderr",
     "output_type": "stream",
     "text": [
      "/usr/local/lib/python3.6/site-packages/statsmodels/base/model.py:496: ConvergenceWarning: Maximum Likelihood optimization failed to converge. Check mle_retvals\n",
      "  \"Check mle_retvals\", ConvergenceWarning)\n"
     ]
    }
   ],
   "source": [
    "import statsmodels.api as sm\n",
    "from scipy import stats\n",
    "stats.chisqprob = lambda chisq, df: stats.chi2.sf(chisq, df) #workaround for chisqprob is removed in new statsmodels\n",
    "# manually add the intercept\n",
    "#X1['intercept'] = 1.0\n",
    "\n",
    "#pd.to_numeric(X1)\n",
    "logit_model=sm.Logit(y1,aa)\n",
    "result=logit_model.fit()\n",
    "print(result.summary())"
   ]
  },
  {
   "cell_type": "markdown",
   "metadata": {},
   "source": [
    "### logisitic regression throwing error on singular matric which is a mathematical issue arising when matrix can't be  inversed and hence can't optimize the model, so above is only demonstration purpose only and less variables only used"
   ]
  },
  {
   "cell_type": "code",
   "execution_count": 65,
   "metadata": {},
   "outputs": [
    {
     "data": {
      "text/plain": [
       "['continous_feature_14',\n",
       " 'continous_feature_16',\n",
       " 'continous_feature_17',\n",
       " 'continous_feature_25',\n",
       " 'continous_feature_27',\n",
       " 'continous_feature_3_3',\n",
       " 'continous_feature_3_4',\n",
       " 'continous_feature_3_5',\n",
       " 'continous_feature_3_8',\n",
       " 'continous_feature_3_9',\n",
       " 'continous_feature_3_10',\n",
       " 'continous_feature_3_11',\n",
       " 'continous_feature_3_12',\n",
       " 'continous_feature_3_16',\n",
       " 'continous_feature_3_18',\n",
       " 'continous_feature_3_22',\n",
       " 'continous_feature_3_41',\n",
       " 'continous_feature_3_48',\n",
       " 'continous_feature_3_110',\n",
       " 'continous_feature_6_0',\n",
       " 'continous_feature_6_3',\n",
       " 'continous_feature_6_11',\n",
       " 'continous_feature_6_13',\n",
       " 'continous_feature_6_15',\n",
       " 'continous_feature_6_17',\n",
       " 'continous_feature_6_19',\n",
       " 'continous_feature_6_20',\n",
       " 'continous_feature_6_21',\n",
       " 'continous_feature_6_22',\n",
       " 'continous_feature_6_24',\n",
       " 'continous_feature_6_27',\n",
       " 'continous_feature_6_28',\n",
       " 'continous_feature_6_31',\n",
       " 'continous_feature_6_32',\n",
       " 'continous_feature_6_33',\n",
       " 'continous_feature_6_35',\n",
       " 'continous_feature_6_38',\n",
       " 'continous_feature_6_40',\n",
       " 'continous_feature_6_46',\n",
       " 'continous_feature_6_136',\n",
       " 'continous_feature_7_-8965',\n",
       " 'continous_feature_7_-5246',\n",
       " 'continous_feature_7_-3779',\n",
       " 'continous_feature_7_-2000',\n",
       " 'continous_feature_7_-1309',\n",
       " 'continous_feature_7_-1007',\n",
       " 'continous_feature_7_-493',\n",
       " 'continous_feature_7_0']"
      ]
     },
     "execution_count": 65,
     "metadata": {},
     "output_type": "execute_result"
    }
   ],
   "source": [
    "list(X1)"
   ]
  },
  {
   "cell_type": "code",
   "execution_count": 67,
   "metadata": {},
   "outputs": [],
   "source": [
    "from sklearn.model_selection import train_test_split\n",
    "x_train, x_test, y_train, y_test = train_test_split(X, y1, test_size=0.25, random_state=0)"
   ]
  },
  {
   "cell_type": "code",
   "execution_count": 68,
   "metadata": {},
   "outputs": [
    {
     "name": "stderr",
     "output_type": "stream",
     "text": [
      "/usr/local/lib/python3.6/site-packages/sklearn/utils/validation.py:578: DataConversionWarning: A column-vector y was passed when a 1d array was expected. Please change the shape of y to (n_samples, ), for example using ravel().\n",
      "  y = column_or_1d(y, warn=True)\n"
     ]
    },
    {
     "data": {
      "text/plain": [
       "LogisticRegression(C=1.0, class_weight=None, dual=False, fit_intercept=True,\n",
       "          intercept_scaling=1, max_iter=100, multi_class='ovr', n_jobs=1,\n",
       "          penalty='l2', random_state=None, solver='liblinear', tol=0.0001,\n",
       "          verbose=0, warm_start=False)"
      ]
     },
     "execution_count": 68,
     "metadata": {},
     "output_type": "execute_result"
    }
   ],
   "source": [
    "from sklearn.linear_model import LogisticRegression\n",
    "# all parameters not specified are set to their defaults\n",
    "logisticRegr = LogisticRegression()\n",
    "logisticRegr.fit(x_train, y_train)"
   ]
  },
  {
   "cell_type": "code",
   "execution_count": 69,
   "metadata": {},
   "outputs": [],
   "source": [
    "predictions = logisticRegr.predict(x_test)"
   ]
  },
  {
   "cell_type": "code",
   "execution_count": 70,
   "metadata": {},
   "outputs": [
    {
     "data": {
      "text/plain": [
       "array([1, 1, 0, 0, 1, 1, 1, 0, 1, 1, 0, 0, 1, 0, 1, 0, 0, 1, 1, 1, 1, 1,\n",
       "       0, 1, 1, 1, 0, 1, 1, 0, 1, 1, 1, 1, 0, 1, 1, 1, 1, 1, 1, 0, 1, 1,\n",
       "       1, 1, 1, 0, 0, 1, 1, 0, 1, 1, 0, 1, 1, 0, 1, 1, 1, 1, 0, 1, 1, 1,\n",
       "       1, 1, 1, 1, 1, 0, 1, 1, 1, 1, 1, 0, 1, 1, 1, 1, 0, 1, 1, 1, 1, 1,\n",
       "       1, 1, 1, 0, 1, 1, 1, 1, 1, 1, 1, 0, 1, 1, 1, 1, 0, 1, 1, 1, 0, 0,\n",
       "       1, 0, 1, 1, 0, 0, 1, 1, 0, 1, 1, 1, 0, 1, 1, 1, 1, 0, 1, 0, 1, 1,\n",
       "       1, 1, 0, 0, 0, 1, 1, 1, 1, 1, 1, 1, 1, 1, 1, 1, 1, 0, 0, 1, 1, 1,\n",
       "       1, 0, 0, 1, 0, 1, 1, 0, 0, 0, 1, 0, 1, 1, 1, 1, 0, 1, 1, 1, 0, 1,\n",
       "       0, 0, 0, 1, 1, 1, 1, 1, 1, 0, 0, 0, 1, 1, 1, 1, 1, 1, 0, 0, 1, 1,\n",
       "       1, 1, 1, 0, 1, 0, 1, 1, 1, 0, 0, 1, 0, 1, 1, 1, 1, 1, 0, 1, 0, 0,\n",
       "       1, 1, 0, 1, 0, 0, 1, 1, 1, 1, 0, 1, 0, 1, 1, 1, 0, 1, 1, 1, 1, 0,\n",
       "       0, 0, 1, 1, 1, 1, 1, 1, 1, 1, 1, 1, 1, 1, 0, 0, 1, 0, 1, 1, 1, 0,\n",
       "       0, 1, 1, 0, 1, 0, 1, 1, 0, 1, 1, 1, 1, 0, 1, 1, 0, 1, 1, 1, 1, 0,\n",
       "       1, 0, 1, 0, 1, 1, 1, 1, 0, 1, 1, 1, 0, 1, 0, 1, 1, 1, 1, 0, 1, 1,\n",
       "       1, 1, 0, 1, 0, 0, 1, 1, 0, 1, 1, 1, 1, 0, 1, 0, 1, 1, 0, 0, 1, 0,\n",
       "       1, 1, 1, 1, 1, 1, 0, 1, 1, 1, 1, 1, 1, 1, 1, 1, 1, 0, 1, 1, 1, 1,\n",
       "       0, 1, 0, 1, 1, 0, 1, 0, 1, 1, 1, 1, 1, 0, 1, 0, 1, 1, 0, 1, 1, 1,\n",
       "       1, 0, 1, 0, 1, 1, 0, 1, 1, 0, 1, 1, 0, 0, 1, 0, 0, 1, 0, 1, 1, 1,\n",
       "       1, 1, 1, 1, 0, 0, 1, 1, 1, 1, 0, 1, 1, 0, 1, 1, 0, 1, 0, 1, 1, 0,\n",
       "       1, 1, 0, 0, 1, 1, 1, 1, 1, 1, 1, 1, 1, 1, 1, 1, 0, 0, 1, 1, 0, 1,\n",
       "       0, 1, 1, 1, 1, 0, 0, 1, 1, 1, 1, 1, 1, 1, 0, 1, 0, 0, 1, 1, 1, 0,\n",
       "       0, 0, 1, 1, 1, 1, 0, 1, 1, 0, 1, 1, 1, 1, 1, 1, 1, 1, 1, 1, 0, 1,\n",
       "       0, 1, 1, 1, 1, 0, 0, 1, 1, 0, 1, 1, 1, 0, 1, 0, 0, 1, 1, 1, 1, 1,\n",
       "       0, 1, 1, 0, 0, 1, 1, 0, 0, 1, 1, 1, 1, 0, 0, 1, 1, 0, 0, 1, 0, 0,\n",
       "       1, 1, 1, 0, 0, 1, 1, 1, 0, 0, 0, 1, 1, 0, 1, 0, 1, 0, 1, 1, 1, 1,\n",
       "       1, 1, 0, 1, 0, 1, 1, 1, 0, 1, 1, 1, 0, 0, 0, 1, 1, 1, 1, 1, 0, 1,\n",
       "       1, 1, 1, 1, 0, 1, 0, 1, 1, 0, 1, 0, 0, 1, 1, 1, 1, 0, 1, 1, 1, 1,\n",
       "       0, 1, 0, 0, 1, 1, 1, 0, 1, 1, 0, 0, 0, 1, 1, 1, 0, 1, 0, 0, 1, 1,\n",
       "       0, 1, 1, 0, 1, 0, 0, 0, 1, 1, 0, 1, 1, 1, 1, 1, 0, 0, 1, 0, 1, 1,\n",
       "       0, 1, 1, 1, 1, 1, 1, 1, 1, 0, 1, 0, 1, 1, 0, 1, 1, 1, 0, 1, 1, 0,\n",
       "       1, 0, 0, 1])"
      ]
     },
     "execution_count": 70,
     "metadata": {},
     "output_type": "execute_result"
    }
   ],
   "source": [
    "predictions"
   ]
  },
  {
   "cell_type": "code",
   "execution_count": 71,
   "metadata": {},
   "outputs": [
    {
     "name": "stdout",
     "output_type": "stream",
     "text": [
      "0.5948795180722891\n"
     ]
    }
   ],
   "source": [
    "# Use score method to get accuracy of model\n",
    "score = logisticRegr.score(x_test, y_test)\n",
    "print(score)"
   ]
  },
  {
   "cell_type": "code",
   "execution_count": 72,
   "metadata": {},
   "outputs": [
    {
     "name": "stdout",
     "output_type": "stream",
     "text": [
      "[[121 183]\n",
      " [ 86 274]]\n"
     ]
    }
   ],
   "source": [
    "import matplotlib.pyplot as plt\n",
    "import seaborn as sns\n",
    "from sklearn import metrics\n",
    "cm = metrics.confusion_matrix(y_test, predictions)\n",
    "print(cm)"
   ]
  },
  {
   "cell_type": "code",
   "execution_count": 73,
   "metadata": {},
   "outputs": [
    {
     "data": {
      "image/png": "[encoded data removed]",
      "text/plain": [
       "<Figure size 648x648 with 2 Axes>"
      ]
     },
     "metadata": {},
     "output_type": "display_data"
    }
   ],
   "source": [
    "plt.figure(figsize=(9,9))\n",
    "sns.heatmap(cm, annot=True, fmt=\".3f\", linewidths=.5, square = True, cmap = 'Blues_r');\n",
    "plt.ylabel('Actual label');\n",
    "plt.xlabel('Predicted label');\n",
    "all_sample_title = 'Accuracy Score: {0}'.format(score)\n",
    "plt.title(all_sample_title, size = 15);"
   ]
  },
  {
   "cell_type": "markdown",
   "metadata": {},
   "source": [
    "### Adaboost Predict"
   ]
  },
  {
   "cell_type": "code",
   "execution_count": 74,
   "metadata": {},
   "outputs": [],
   "source": [
    "# Load libraries\n",
    "from sklearn.ensemble import AdaBoostClassifier\n",
    "from sklearn import datasets"
   ]
  },
  {
   "cell_type": "code",
   "execution_count": 109,
   "metadata": {},
   "outputs": [
    {
     "data": {
      "text/html": [
       "<div>\n",
       "<style scoped>\n",
       "    .dataframe tbody tr th:only-of-type {\n",
       "        vertical-align: middle;\n",
       "    }\n",
       "\n",
       "    .dataframe tbody tr th {\n",
       "        vertical-align: top;\n",
       "    }\n",
       "\n",
       "    .dataframe thead th {\n",
       "        text-align: right;\n",
       "    }\n",
       "</style>\n",
       "<table border=\"1\" class=\"dataframe\">\n",
       "  <thead>\n",
       "    <tr style=\"text-align: right;\">\n",
       "      <th></th>\n",
       "      <th>age</th>\n",
       "      <th>incorporation_type</th>\n",
       "      <th>continous_feature_1</th>\n",
       "      <th>continous_feature_2</th>\n",
       "      <th>continous_feature_3</th>\n",
       "      <th>continous_feature_4</th>\n",
       "      <th>continous_feature_5</th>\n",
       "      <th>continous_feature_6</th>\n",
       "      <th>continous_feature_7</th>\n",
       "      <th>continous_feature_8</th>\n",
       "      <th>...</th>\n",
       "      <th>continous_feature_20</th>\n",
       "      <th>continous_feature_21</th>\n",
       "      <th>continous_feature_22</th>\n",
       "      <th>continous_feature_23</th>\n",
       "      <th>continous_feature_24</th>\n",
       "      <th>continous_feature_25</th>\n",
       "      <th>continous_feature_26</th>\n",
       "      <th>continous_feature_27</th>\n",
       "      <th>continous_feature_28</th>\n",
       "      <th>continous_feature_29</th>\n",
       "    </tr>\n",
       "  </thead>\n",
       "  <tbody>\n",
       "    <tr>\n",
       "      <th>0</th>\n",
       "      <td>24.0</td>\n",
       "      <td>sp_zoo</td>\n",
       "      <td>5.740930e+05</td>\n",
       "      <td>0.0</td>\n",
       "      <td>0</td>\n",
       "      <td>0.0000</td>\n",
       "      <td>0.0</td>\n",
       "      <td>0</td>\n",
       "      <td>0</td>\n",
       "      <td>0.000</td>\n",
       "      <td>...</td>\n",
       "      <td>0.0</td>\n",
       "      <td>33.00000</td>\n",
       "      <td>0.000000</td>\n",
       "      <td>1.000</td>\n",
       "      <td>1.000000</td>\n",
       "      <td>0.000000</td>\n",
       "      <td>1.000000</td>\n",
       "      <td>0.000000</td>\n",
       "      <td>1.000000</td>\n",
       "      <td>1.000000</td>\n",
       "    </tr>\n",
       "    <tr>\n",
       "      <th>1</th>\n",
       "      <td>6.0</td>\n",
       "      <td>sp_zoo</td>\n",
       "      <td>2.270302e+04</td>\n",
       "      <td>0.0</td>\n",
       "      <td>0</td>\n",
       "      <td>-140.0000</td>\n",
       "      <td>0.0</td>\n",
       "      <td>0</td>\n",
       "      <td>0</td>\n",
       "      <td>0.000</td>\n",
       "      <td>...</td>\n",
       "      <td>0.0</td>\n",
       "      <td>37.12169</td>\n",
       "      <td>0.254098</td>\n",
       "      <td>0.864</td>\n",
       "      <td>0.827097</td>\n",
       "      <td>0.046287</td>\n",
       "      <td>0.836451</td>\n",
       "      <td>0.161334</td>\n",
       "      <td>0.896515</td>\n",
       "      <td>1.233369</td>\n",
       "    </tr>\n",
       "    <tr>\n",
       "      <th>2</th>\n",
       "      <td>28.0</td>\n",
       "      <td>dzialalnosc_gospodarcza</td>\n",
       "      <td>1.192940e+05</td>\n",
       "      <td>0.0</td>\n",
       "      <td>0</td>\n",
       "      <td>0.0000</td>\n",
       "      <td>-894.0</td>\n",
       "      <td>2</td>\n",
       "      <td>0</td>\n",
       "      <td>0.000</td>\n",
       "      <td>...</td>\n",
       "      <td>0.0</td>\n",
       "      <td>39.00000</td>\n",
       "      <td>0.000000</td>\n",
       "      <td>1.000</td>\n",
       "      <td>1.000000</td>\n",
       "      <td>0.000000</td>\n",
       "      <td>1.000000</td>\n",
       "      <td>0.000000</td>\n",
       "      <td>1.000000</td>\n",
       "      <td>1.000000</td>\n",
       "    </tr>\n",
       "    <tr>\n",
       "      <th>3</th>\n",
       "      <td>55.0</td>\n",
       "      <td>dzialalnosc_gospodarcza</td>\n",
       "      <td>1.251916e+06</td>\n",
       "      <td>0.0</td>\n",
       "      <td>1</td>\n",
       "      <td>0.0000</td>\n",
       "      <td>-2360.0</td>\n",
       "      <td>1</td>\n",
       "      <td>0</td>\n",
       "      <td>0.000</td>\n",
       "      <td>...</td>\n",
       "      <td>0.0</td>\n",
       "      <td>30.00000</td>\n",
       "      <td>0.000000</td>\n",
       "      <td>1.000</td>\n",
       "      <td>1.000000</td>\n",
       "      <td>0.000000</td>\n",
       "      <td>1.000000</td>\n",
       "      <td>0.000000</td>\n",
       "      <td>1.000000</td>\n",
       "      <td>1.000000</td>\n",
       "    </tr>\n",
       "    <tr>\n",
       "      <th>4</th>\n",
       "      <td>39.0</td>\n",
       "      <td>dzialalnosc_gospodarcza</td>\n",
       "      <td>2.266025e+05</td>\n",
       "      <td>0.0</td>\n",
       "      <td>0</td>\n",
       "      <td>-100870.2861</td>\n",
       "      <td>-88.0</td>\n",
       "      <td>1</td>\n",
       "      <td>0</td>\n",
       "      <td>-540.319</td>\n",
       "      <td>...</td>\n",
       "      <td>0.0</td>\n",
       "      <td>26.00000</td>\n",
       "      <td>1.000000</td>\n",
       "      <td>1.000</td>\n",
       "      <td>1.000000</td>\n",
       "      <td>0.000000</td>\n",
       "      <td>1.000000</td>\n",
       "      <td>0.000000</td>\n",
       "      <td>1.000000</td>\n",
       "      <td>0.000000</td>\n",
       "    </tr>\n",
       "  </tbody>\n",
       "</table>\n",
       "<p>5 rows × 31 columns</p>\n",
       "</div>"
      ],
      "text/plain": [
       "    age       incorporation_type  continous_feature_1  continous_feature_2  \\\n",
       "0  24.0                   sp_zoo         5.740930e+05                  0.0   \n",
       "1   6.0                   sp_zoo         2.270302e+04                  0.0   \n",
       "2  28.0  dzialalnosc_gospodarcza         1.192940e+05                  0.0   \n",
       "3  55.0  dzialalnosc_gospodarcza         1.251916e+06                  0.0   \n",
       "4  39.0  dzialalnosc_gospodarcza         2.266025e+05                  0.0   \n",
       "\n",
       "   continous_feature_3  continous_feature_4  continous_feature_5  \\\n",
       "0                    0               0.0000                  0.0   \n",
       "1                    0            -140.0000                  0.0   \n",
       "2                    0               0.0000               -894.0   \n",
       "3                    1               0.0000              -2360.0   \n",
       "4                    0         -100870.2861                -88.0   \n",
       "\n",
       "   continous_feature_6  continous_feature_7  continous_feature_8  \\\n",
       "0                    0                    0                0.000   \n",
       "1                    0                    0                0.000   \n",
       "2                    2                    0                0.000   \n",
       "3                    1                    0                0.000   \n",
       "4                    1                    0             -540.319   \n",
       "\n",
       "           ...           continous_feature_20  continous_feature_21  \\\n",
       "0          ...                            0.0              33.00000   \n",
       "1          ...                            0.0              37.12169   \n",
       "2          ...                            0.0              39.00000   \n",
       "3          ...                            0.0              30.00000   \n",
       "4          ...                            0.0              26.00000   \n",
       "\n",
       "   continous_feature_22  continous_feature_23  continous_feature_24  \\\n",
       "0              0.000000                 1.000              1.000000   \n",
       "1              0.254098                 0.864              0.827097   \n",
       "2              0.000000                 1.000              1.000000   \n",
       "3              0.000000                 1.000              1.000000   \n",
       "4              1.000000                 1.000              1.000000   \n",
       "\n",
       "   continous_feature_25  continous_feature_26  continous_feature_27  \\\n",
       "0              0.000000              1.000000              0.000000   \n",
       "1              0.046287              0.836451              0.161334   \n",
       "2              0.000000              1.000000              0.000000   \n",
       "3              0.000000              1.000000              0.000000   \n",
       "4              0.000000              1.000000              0.000000   \n",
       "\n",
       "   continous_feature_28  continous_feature_29  \n",
       "0              1.000000              1.000000  \n",
       "1              0.896515              1.233369  \n",
       "2              1.000000              1.000000  \n",
       "3              1.000000              1.000000  \n",
       "4              1.000000              0.000000  \n",
       "\n",
       "[5 rows x 31 columns]"
      ]
     },
     "execution_count": 109,
     "metadata": {},
     "output_type": "execute_result"
    }
   ],
   "source": [
    "y=['expert_opinion']\n",
    "y2=data[y]\n",
    "X11=[i for i in data if i not in y]\n",
    "y2\n",
    "X2=data[X11]\n",
    "X2.head()"
   ]
  },
  {
   "cell_type": "code",
   "execution_count": 111,
   "metadata": {},
   "outputs": [],
   "source": [
    "# Create adaboost-decision tree classifer object\n",
    "clf = AdaBoostClassifier(n_estimators=50,\n",
    "                         learning_rate=1,\n",
    "                         random_state=0)"
   ]
  },
  {
   "cell_type": "code",
   "execution_count": 116,
   "metadata": {},
   "outputs": [
    {
     "name": "stderr",
     "output_type": "stream",
     "text": [
      "/usr/local/lib/python3.6/site-packages/sklearn/utils/validation.py:578: DataConversionWarning: A column-vector y was passed when a 1d array was expected. Please change the shape of y to (n_samples, ), for example using ravel().\n",
      "  y = column_or_1d(y, warn=True)\n"
     ]
    }
   ],
   "source": [
    "# Train model\n",
    "model = clf.fit(x_train, y_train)"
   ]
  },
  {
   "cell_type": "code",
   "execution_count": 119,
   "metadata": {},
   "outputs": [
    {
     "data": {
      "text/plain": [
       "array([0, 1, 0, 0, 1, 1, 1, 0, 1, 1])"
      ]
     },
     "execution_count": 119,
     "metadata": {},
     "output_type": "execute_result"
    }
   ],
   "source": [
    "model.predict(x_test[0:10])"
   ]
  },
  {
   "cell_type": "code",
   "execution_count": 120,
   "metadata": {},
   "outputs": [
    {
     "data": {
      "text/html": [
       "<div>\n",
       "<style scoped>\n",
       "    .dataframe tbody tr th:only-of-type {\n",
       "        vertical-align: middle;\n",
       "    }\n",
       "\n",
       "    .dataframe tbody tr th {\n",
       "        vertical-align: top;\n",
       "    }\n",
       "\n",
       "    .dataframe thead th {\n",
       "        text-align: right;\n",
       "    }\n",
       "</style>\n",
       "<table border=\"1\" class=\"dataframe\">\n",
       "  <thead>\n",
       "    <tr style=\"text-align: right;\">\n",
       "      <th></th>\n",
       "      <th>expert_opinion</th>\n",
       "    </tr>\n",
       "  </thead>\n",
       "  <tbody>\n",
       "    <tr>\n",
       "      <th>689</th>\n",
       "      <td>1</td>\n",
       "    </tr>\n",
       "    <tr>\n",
       "      <th>824</th>\n",
       "      <td>1</td>\n",
       "    </tr>\n",
       "    <tr>\n",
       "      <th>925</th>\n",
       "      <td>0</td>\n",
       "    </tr>\n",
       "    <tr>\n",
       "      <th>2024</th>\n",
       "      <td>1</td>\n",
       "    </tr>\n",
       "    <tr>\n",
       "      <th>882</th>\n",
       "      <td>0</td>\n",
       "    </tr>\n",
       "    <tr>\n",
       "      <th>2426</th>\n",
       "      <td>1</td>\n",
       "    </tr>\n",
       "    <tr>\n",
       "      <th>1116</th>\n",
       "      <td>0</td>\n",
       "    </tr>\n",
       "    <tr>\n",
       "      <th>1282</th>\n",
       "      <td>1</td>\n",
       "    </tr>\n",
       "    <tr>\n",
       "      <th>1777</th>\n",
       "      <td>1</td>\n",
       "    </tr>\n",
       "    <tr>\n",
       "      <th>2409</th>\n",
       "      <td>1</td>\n",
       "    </tr>\n",
       "  </tbody>\n",
       "</table>\n",
       "</div>"
      ],
      "text/plain": [
       "      expert_opinion\n",
       "689                1\n",
       "824                1\n",
       "925                0\n",
       "2024               1\n",
       "882                0\n",
       "2426               1\n",
       "1116               0\n",
       "1282               1\n",
       "1777               1\n",
       "2409               1"
      ]
     },
     "execution_count": 120,
     "metadata": {},
     "output_type": "execute_result"
    }
   ],
   "source": [
    "y_test[0:10]"
   ]
  },
  {
   "cell_type": "code",
   "execution_count": 121,
   "metadata": {},
   "outputs": [
    {
     "data": {
      "text/plain": [
       "0.6310240963855421"
      ]
     },
     "execution_count": 121,
     "metadata": {},
     "output_type": "execute_result"
    }
   ],
   "source": [
    "model.score(x_test, y_test)"
   ]
  },
  {
   "cell_type": "markdown",
   "metadata": {},
   "source": [
    "### conculsion: some improvement in prediction"
   ]
  },
  {
   "cell_type": "markdown",
   "metadata": {},
   "source": [
    "## now XGboost prediction"
   ]
  },
  {
   "cell_type": "code",
   "execution_count": 122,
   "metadata": {},
   "outputs": [],
   "source": [
    "from numpy import loadtxt\n",
    "from xgboost import XGBClassifier\n",
    "from sklearn.model_selection import train_test_split\n",
    "from sklearn.metrics import accuracy_score"
   ]
  },
  {
   "cell_type": "code",
   "execution_count": 124,
   "metadata": {},
   "outputs": [
    {
     "name": "stderr",
     "output_type": "stream",
     "text": [
      "/usr/local/lib/python3.6/site-packages/sklearn/preprocessing/label.py:95: DataConversionWarning: A column-vector y was passed when a 1d array was expected. Please change the shape of y to (n_samples, ), for example using ravel().\n",
      "  y = column_or_1d(y, warn=True)\n",
      "/usr/local/lib/python3.6/site-packages/sklearn/preprocessing/label.py:128: DataConversionWarning: A column-vector y was passed when a 1d array was expected. Please change the shape of y to (n_samples, ), for example using ravel().\n",
      "  y = column_or_1d(y, warn=True)\n"
     ]
    },
    {
     "data": {
      "text/plain": [
       "XGBClassifier(base_score=0.5, booster='gbtree', colsample_bylevel=1,\n",
       "       colsample_bytree=1, gamma=0, learning_rate=0.1, max_delta_step=0,\n",
       "       max_depth=3, min_child_weight=1, missing=None, n_estimators=100,\n",
       "       n_jobs=1, nthread=None, objective='binary:logistic', random_state=0,\n",
       "       reg_alpha=0, reg_lambda=1, scale_pos_weight=1, seed=None,\n",
       "       silent=True, subsample=1)"
      ]
     },
     "execution_count": 124,
     "metadata": {},
     "output_type": "execute_result"
    }
   ],
   "source": [
    "\n",
    "# fit model no training data\n",
    "model = XGBClassifier()\n",
    "model.fit(x_train, y_train)"
   ]
  },
  {
   "cell_type": "code",
   "execution_count": 126,
   "metadata": {},
   "outputs": [
    {
     "name": "stderr",
     "output_type": "stream",
     "text": [
      "/usr/local/lib/python3.6/site-packages/sklearn/preprocessing/label.py:151: DeprecationWarning: The truth value of an empty array is ambiguous. Returning False, but in future this will result in an error. Use `array.size > 0` to check that an array is not empty.\n",
      "  if diff:\n"
     ]
    }
   ],
   "source": [
    "\n",
    "# make predictions for test data\n",
    "y_pred = model.predict(x_test)\n",
    "predictions = [round(value) for value in y_pred]"
   ]
  },
  {
   "cell_type": "code",
   "execution_count": 127,
   "metadata": {},
   "outputs": [
    {
     "name": "stdout",
     "output_type": "stream",
     "text": [
      "Accuracy: 67.02%\n"
     ]
    }
   ],
   "source": [
    "\n",
    "# evaluate predictions\n",
    "accuracy = accuracy_score(y_test, predictions)\n",
    "print(\"Accuracy: %.2f%%\" % (accuracy * 100.0))"
   ]
  },
  {
   "cell_type": "markdown",
   "metadata": {},
   "source": [
    "## !!! more improvement in prediction"
   ]
  },
  {
   "cell_type": "code",
   "execution_count": null,
   "metadata": {},
   "outputs": [],
   "source": []
  },
  {
   "cell_type": "markdown",
   "metadata": {},
   "source": [
    "# Now use deep learning to predict"
   ]
  },
  {
   "cell_type": "markdown",
   "metadata": {},
   "source": [
    "### smarter nn network\n",
    "here its a lager network with 1st layer size 60 with 100 epochs with adam optimizer, here the result/accuracy criteria is not notive of keras but borrowed from SKlearn"
   ]
  },
  {
   "cell_type": "code",
   "execution_count": 129,
   "metadata": {},
   "outputs": [
    {
     "name": "stderr",
     "output_type": "stream",
     "text": [
      "/usr/local/lib/python3.6/site-packages/h5py/__init__.py:36: FutureWarning: Conversion of the second argument of issubdtype from `float` to `np.floating` is deprecated. In future, it will be treated as `np.float64 == np.dtype(float).type`.\n",
      "  from ._conv import register_converters as _register_converters\n",
      "Using TensorFlow backend.\n"
     ]
    }
   ],
   "source": [
    "\n",
    "import numpy\n",
    "import pandas\n",
    "from keras.models import Sequential\n",
    "from keras.layers import Dense\n",
    "from keras.wrappers.scikit_learn import KerasClassifier\n",
    "from sklearn.model_selection import cross_val_score\n",
    "from sklearn.preprocessing import LabelEncoder\n",
    "from sklearn.model_selection import StratifiedKFold\n",
    "from sklearn.preprocessing import StandardScaler\n",
    "from sklearn.pipeline import Pipeline"
   ]
  },
  {
   "cell_type": "code",
   "execution_count": 138,
   "metadata": {},
   "outputs": [],
   "source": [
    "# baseline model\n",
    "def create_baseline():\n",
    "\t# create model\n",
    "\tmodel = Sequential()\n",
    "\tmodel.add(Dense(60, input_dim=48, kernel_initializer='normal', activation='relu'))\n",
    "\tmodel.add(Dense(1, kernel_initializer='normal', activation='sigmoid'))\n",
    "\t# Compile model\n",
    "\tmodel.compile(loss='binary_crossentropy', optimizer='adam', metrics=['accuracy'])\n",
    "\treturn model"
   ]
  },
  {
   "cell_type": "code",
   "execution_count": 146,
   "metadata": {},
   "outputs": [
    {
     "name": "stdout",
     "output_type": "stream",
     "text": [
      "Results: 60.72% (4.67%)\n"
     ]
    }
   ],
   "source": [
    "# evaluate model with standardized dataset\n",
    "estimator = KerasClassifier(build_fn=create_baseline, epochs=100, batch_size=5, verbose=0)\n",
    "kfold = StratifiedKFold(n_splits=10, shuffle=True, random_state=seed)\n",
    "results = cross_val_score(estimator, X1, y1, cv=kfold)\n",
    "print(\"Results: %.2f%% (%.2f%%)\" % (results.mean()*100, results.std()*100))"
   ]
  },
  {
   "cell_type": "markdown",
   "metadata": {},
   "source": [
    "##### Smater NN: In this experiment, we take our baseline model with 48 neurons in the hidden layer and reduce it almost by half to 30. This will put pressure on the network during training to pick out the most important structure in the input data to model."
   ]
  },
  {
   "cell_type": "code",
   "execution_count": 151,
   "metadata": {},
   "outputs": [
    {
     "name": "stdout",
     "output_type": "stream",
     "text": [
      "Smaller: 60.39% (4.40%)\n"
     ]
    }
   ],
   "source": [
    "def create_smaller():\n",
    "\t# create model\n",
    "\tmodel = Sequential()\n",
    "\tmodel.add(Dense(30, input_dim=48, kernel_initializer='normal', activation='relu'))\n",
    "\tmodel.add(Dense(1, kernel_initializer='normal', activation='sigmoid'))\n",
    "\t# Compile model\n",
    "\tmodel.compile(loss='binary_crossentropy', optimizer='adam', metrics=['accuracy'])\n",
    "\treturn model\n",
    "estimators = []\n",
    "estimators.append(('standardize', StandardScaler()))\n",
    "estimators.append(('mlp', KerasClassifier(build_fn=create_smaller, epochs=100, batch_size=5, verbose=0)))\n",
    "pipeline = Pipeline(estimators)\n",
    "kfold = StratifiedKFold(n_splits=10, shuffle=True, random_state=seed)\n",
    "results = cross_val_score(pipeline, X1, y1, cv=kfold)\n",
    "print(\"Smaller: %.2f%% (%.2f%%)\" % (results.mean()*100, results.std()*100))"
   ]
  },
  {
   "cell_type": "markdown",
   "metadata": {},
   "source": [
    "### larger network\n"
   ]
  },
  {
   "cell_type": "code",
   "execution_count": null,
   "metadata": {},
   "outputs": [],
   "source": [
    "# larger model\n",
    "def create_larger():\n",
    "\t# create model\n",
    "\tmodel = Sequential()\n",
    "\tmodel.add(Dense(60, input_dim=48, kernel_initializer='normal', activation='relu'))\n",
    "\tmodel.add(Dense(30, kernel_initializer='normal', activation='relu'))\n",
    "\tmodel.add(Dense(1, kernel_initializer='normal', activation='sigmoid'))\n",
    "\t# Compile model\n",
    "\tmodel.compile(loss='binary_crossentropy', optimizer='adam', metrics=['accuracy'])\n",
    "\treturn model\n",
    "estimators = []\n",
    "estimators.append(('standardize', StandardScaler()))\n",
    "estimators.append(('mlp', KerasClassifier(build_fn=create_larger, epochs=100, batch_size=5, verbose=0)))\n",
    "pipeline = Pipeline(estimators)\n",
    "kfold = StratifiedKFold(n_splits=10, shuffle=True, random_state=seed)\n",
    "results = cross_val_score(pipeline, X1, y1, cv=kfold)\n",
    "print(\"Larger: %.2f%% (%.2f%%)\" % (results.mean()*100, results.std()*100))"
   ]
  },
  {
   "cell_type": "markdown",
   "metadata": {},
   "source": [
    "### another native NN aproach\n",
    "\n",
    "#### here 3 layer neural network with 12 > 8>1 dense and activation liek relu and sigmoid. Here the model functions like compile and fit are from the keras/tf native portfolio"
   ]
  },
  {
   "cell_type": "code",
   "execution_count": 152,
   "metadata": {},
   "outputs": [
    {
     "name": "stdout",
     "output_type": "stream",
     "text": [
      "Epoch 1/150\n",
      "2656/2656 [==============================] - 2s 912us/step - loss: 0.6938 - acc: 0.5237\n",
      "Epoch 2/150\n",
      "2656/2656 [==============================] - 1s 301us/step - loss: 0.6901 - acc: 0.5467 0s - loss: 0.6900 - acc: 0.54\n",
      "Epoch 3/150\n",
      "2656/2656 [==============================] - 1s 295us/step - loss: 0.6892 - acc: 0.5474\n",
      "Epoch 4/150\n",
      "2656/2656 [==============================] - 1s 304us/step - loss: 0.6865 - acc: 0.5606\n",
      "Epoch 5/150\n",
      "2656/2656 [==============================] - 1s 300us/step - loss: 0.6770 - acc: 0.6066\n",
      "Epoch 6/150\n",
      "2656/2656 [==============================] - 1s 300us/step - loss: 0.6696 - acc: 0.6209 0s - loss: 0.6694 - acc: 0.620\n",
      "Epoch 7/150\n",
      "2656/2656 [==============================] - 1s 306us/step - loss: 0.6647 - acc: 0.6227\n",
      "Epoch 8/150\n",
      "2656/2656 [==============================] - 1s 296us/step - loss: 0.6602 - acc: 0.6197\n",
      "Epoch 9/150\n",
      "2656/2656 [==============================] - 1s 306us/step - loss: 0.6571 - acc: 0.6212\n",
      "Epoch 10/150\n",
      "2656/2656 [==============================] - 1s 302us/step - loss: 0.6535 - acc: 0.6224\n",
      "Epoch 11/150\n",
      "2656/2656 [==============================] - 1s 272us/step - loss: 0.6510 - acc: 0.6209\n",
      "Epoch 12/150\n",
      "2656/2656 [==============================] - 1s 271us/step - loss: 0.6474 - acc: 0.6261\n",
      "Epoch 13/150\n",
      "2656/2656 [==============================] - 1s 271us/step - loss: 0.6468 - acc: 0.6171\n",
      "Epoch 14/150\n",
      "2656/2656 [==============================] - 1s 273us/step - loss: 0.6448 - acc: 0.6205\n",
      "Epoch 15/150\n",
      "2656/2656 [==============================] - 1s 288us/step - loss: 0.6432 - acc: 0.6216\n",
      "Epoch 16/150\n",
      "2656/2656 [==============================] - 1s 288us/step - loss: 0.6423 - acc: 0.6239\n",
      "Epoch 17/150\n",
      "2656/2656 [==============================] - 1s 290us/step - loss: 0.6408 - acc: 0.6231\n",
      "Epoch 18/150\n",
      "2656/2656 [==============================] - 1s 298us/step - loss: 0.6402 - acc: 0.6227\n",
      "Epoch 19/150\n",
      "2656/2656 [==============================] - 1s 306us/step - loss: 0.6393 - acc: 0.6216 0s - loss: 0.6406 - acc: \n",
      "Epoch 20/150\n",
      "2656/2656 [==============================] - 1s 299us/step - loss: 0.6384 - acc: 0.6250 0s - loss: 0.6403 - acc: 0.\n",
      "Epoch 21/150\n",
      "2656/2656 [==============================] - 1s 295us/step - loss: 0.6370 - acc: 0.6235\n",
      "Epoch 22/150\n",
      "2656/2656 [==============================] - 1s 304us/step - loss: 0.6368 - acc: 0.6250\n",
      "Epoch 23/150\n",
      "2656/2656 [==============================] - 1s 295us/step - loss: 0.6360 - acc: 0.6197\n",
      "Epoch 24/150\n",
      "2656/2656 [==============================] - 1s 286us/step - loss: 0.6354 - acc: 0.6258\n",
      "Epoch 25/150\n",
      "2656/2656 [==============================] - 1s 288us/step - loss: 0.6345 - acc: 0.6209\n",
      "Epoch 26/150\n",
      "2656/2656 [==============================] - 1s 304us/step - loss: 0.6342 - acc: 0.6182\n",
      "Epoch 27/150\n",
      "2656/2656 [==============================] - 1s 315us/step - loss: 0.6337 - acc: 0.6242\n",
      "Epoch 28/150\n",
      "2656/2656 [==============================] - 1s 285us/step - loss: 0.6328 - acc: 0.6288\n",
      "Epoch 29/150\n",
      "2656/2656 [==============================] - 1s 305us/step - loss: 0.6329 - acc: 0.6250\n",
      "Epoch 30/150\n",
      "2656/2656 [==============================] - 1s 301us/step - loss: 0.6330 - acc: 0.6239\n",
      "Epoch 31/150\n",
      "2656/2656 [==============================] - 1s 297us/step - loss: 0.6320 - acc: 0.6216\n",
      "Epoch 32/150\n",
      "2656/2656 [==============================] - 1s 295us/step - loss: 0.6316 - acc: 0.6242\n",
      "Epoch 33/150\n",
      "2656/2656 [==============================] - 1s 320us/step - loss: 0.6315 - acc: 0.6250 0s - loss: 0.6312 - acc\n",
      "Epoch 34/150\n",
      "2656/2656 [==============================] - 1s 308us/step - loss: 0.6313 - acc: 0.6254\n",
      "Epoch 35/150\n",
      "2656/2656 [==============================] - 1s 307us/step - loss: 0.6311 - acc: 0.6269\n",
      "Epoch 36/150\n",
      "2656/2656 [==============================] - 1s 305us/step - loss: 0.6311 - acc: 0.6254 0s - loss: 0.6355 - acc: 0.6\n",
      "Epoch 37/150\n",
      "2656/2656 [==============================] - 1s 306us/step - loss: 0.6306 - acc: 0.6265\n",
      "Epoch 38/150\n",
      "2656/2656 [==============================] - 1s 317us/step - loss: 0.6305 - acc: 0.6254 0s - loss: 0.6308 - acc: 0.624\n",
      "Epoch 39/150\n",
      "2656/2656 [==============================] - 1s 304us/step - loss: 0.6302 - acc: 0.6254\n",
      "Epoch 40/150\n",
      "2656/2656 [==============================] - 1s 301us/step - loss: 0.6304 - acc: 0.6227\n",
      "Epoch 41/150\n",
      "2656/2656 [==============================] - 1s 271us/step - loss: 0.6299 - acc: 0.6250\n",
      "Epoch 42/150\n",
      "2656/2656 [==============================] - 1s 269us/step - loss: 0.6296 - acc: 0.6269\n",
      "Epoch 43/150\n",
      "2656/2656 [==============================] - 1s 283us/step - loss: 0.6292 - acc: 0.6212 0s - loss: 0.6457\n",
      "Epoch 44/150\n",
      "2656/2656 [==============================] - 1s 284us/step - loss: 0.6303 - acc: 0.6242\n",
      "Epoch 45/150\n",
      "2656/2656 [==============================] - 1s 276us/step - loss: 0.6292 - acc: 0.6239\n",
      "Epoch 46/150\n",
      "2656/2656 [==============================] - 1s 282us/step - loss: 0.6292 - acc: 0.6269\n",
      "Epoch 47/150\n",
      "2656/2656 [==============================] - 1s 300us/step - loss: 0.6290 - acc: 0.6269\n",
      "Epoch 48/150\n",
      "2656/2656 [==============================] - 1s 306us/step - loss: 0.6292 - acc: 0.6261\n",
      "Epoch 49/150\n",
      "2656/2656 [==============================] - 1s 291us/step - loss: 0.6284 - acc: 0.6261\n",
      "Epoch 50/150\n",
      "2656/2656 [==============================] - 1s 311us/step - loss: 0.6287 - acc: 0.6242\n",
      "Epoch 51/150\n",
      "2656/2656 [==============================] - 1s 298us/step - loss: 0.6282 - acc: 0.6224\n",
      "Epoch 52/150\n",
      "2656/2656 [==============================] - 1s 306us/step - loss: 0.6294 - acc: 0.6231\n",
      "Epoch 53/150\n",
      "2656/2656 [==============================] - 1s 306us/step - loss: 0.6287 - acc: 0.6258\n",
      "Epoch 54/150\n",
      "2656/2656 [==============================] - 1s 287us/step - loss: 0.6290 - acc: 0.6205\n",
      "Epoch 55/150\n",
      "2656/2656 [==============================] - 1s 283us/step - loss: 0.6293 - acc: 0.6261\n",
      "Epoch 56/150\n",
      "2656/2656 [==============================] - 1s 296us/step - loss: 0.6288 - acc: 0.6269\n",
      "Epoch 57/150\n",
      "2656/2656 [==============================] - 1s 300us/step - loss: 0.6292 - acc: 0.6186\n",
      "Epoch 58/150\n",
      "2656/2656 [==============================] - 1s 299us/step - loss: 0.6286 - acc: 0.6239\n",
      "Epoch 59/150\n",
      "2656/2656 [==============================] - 1s 300us/step - loss: 0.6287 - acc: 0.6242\n",
      "Epoch 60/150\n",
      "2656/2656 [==============================] - 1s 293us/step - loss: 0.6284 - acc: 0.6220\n",
      "Epoch 61/150\n",
      "2656/2656 [==============================] - 1s 304us/step - loss: 0.6284 - acc: 0.6258\n",
      "Epoch 62/150\n",
      "2656/2656 [==============================] - 1s 302us/step - loss: 0.6278 - acc: 0.6269\n",
      "Epoch 63/150\n",
      "2656/2656 [==============================] - 1s 305us/step - loss: 0.6288 - acc: 0.6254\n",
      "Epoch 64/150\n",
      "2656/2656 [==============================] - 1s 303us/step - loss: 0.6285 - acc: 0.6276\n",
      "Epoch 65/150\n",
      "2656/2656 [==============================] - 1s 309us/step - loss: 0.6285 - acc: 0.6216\n",
      "Epoch 66/150\n",
      "2656/2656 [==============================] - 1s 305us/step - loss: 0.6276 - acc: 0.6280 0s - loss: 0.6194 - acc:\n",
      "Epoch 67/150\n",
      "2656/2656 [==============================] - 1s 309us/step - loss: 0.6281 - acc: 0.6231\n",
      "Epoch 68/150\n",
      "2656/2656 [==============================] - 1s 307us/step - loss: 0.6274 - acc: 0.6276\n",
      "Epoch 69/150\n",
      "2656/2656 [==============================] - 1s 306us/step - loss: 0.6281 - acc: 0.6231\n",
      "Epoch 70/150\n",
      "2656/2656 [==============================] - 1s 304us/step - loss: 0.6278 - acc: 0.6273\n",
      "Epoch 71/150\n",
      "2656/2656 [==============================] - 1s 309us/step - loss: 0.6276 - acc: 0.6273\n",
      "Epoch 72/150\n",
      "2656/2656 [==============================] - 1s 297us/step - loss: 0.6282 - acc: 0.6227\n",
      "Epoch 73/150\n",
      "2656/2656 [==============================] - 1s 275us/step - loss: 0.6277 - acc: 0.6288\n",
      "Epoch 74/150\n",
      "2656/2656 [==============================] - 1s 283us/step - loss: 0.6277 - acc: 0.6239\n",
      "Epoch 75/150\n",
      "2656/2656 [==============================] - 1s 278us/step - loss: 0.6277 - acc: 0.6265\n",
      "Epoch 76/150\n",
      "2656/2656 [==============================] - 1s 280us/step - loss: 0.6270 - acc: 0.6288\n",
      "Epoch 77/150\n",
      "2656/2656 [==============================] - 1s 277us/step - loss: 0.6278 - acc: 0.6284\n",
      "Epoch 78/150\n",
      "2656/2656 [==============================] - 1s 296us/step - loss: 0.6269 - acc: 0.6280\n",
      "Epoch 79/150\n",
      "2656/2656 [==============================] - 1s 292us/step - loss: 0.6269 - acc: 0.6269\n",
      "Epoch 80/150\n",
      "2656/2656 [==============================] - 1s 286us/step - loss: 0.6269 - acc: 0.6280\n",
      "Epoch 81/150\n",
      "2656/2656 [==============================] - 1s 289us/step - loss: 0.6278 - acc: 0.6269\n",
      "Epoch 82/150\n",
      "2656/2656 [==============================] - 1s 286us/step - loss: 0.6271 - acc: 0.6250\n",
      "Epoch 83/150\n",
      "2656/2656 [==============================] - 1s 288us/step - loss: 0.6275 - acc: 0.6242 0s - loss: 0.6265 -\n",
      "Epoch 84/150\n",
      "2656/2656 [==============================] - 1s 283us/step - loss: 0.6272 - acc: 0.6231\n",
      "Epoch 85/150\n",
      "2656/2656 [==============================] - 1s 285us/step - loss: 0.6266 - acc: 0.6284\n",
      "Epoch 86/150\n",
      "2656/2656 [==============================] - 1s 276us/step - loss: 0.6267 - acc: 0.6273\n",
      "Epoch 87/150\n",
      "2656/2656 [==============================] - 1s 278us/step - loss: 0.6270 - acc: 0.6280\n",
      "Epoch 88/150\n",
      "2656/2656 [==============================] - 1s 269us/step - loss: 0.6268 - acc: 0.6265\n",
      "Epoch 89/150\n",
      "2656/2656 [==============================] - 1s 284us/step - loss: 0.6270 - acc: 0.6242\n",
      "Epoch 90/150\n",
      "2656/2656 [==============================] - 1s 288us/step - loss: 0.6271 - acc: 0.6239 0s - loss: 0.6276 - acc: 0.62\n",
      "Epoch 91/150\n",
      "2656/2656 [==============================] - 1s 302us/step - loss: 0.6275 - acc: 0.6209\n",
      "Epoch 92/150\n",
      "2656/2656 [==============================] - 1s 296us/step - loss: 0.6266 - acc: 0.6269\n",
      "Epoch 93/150\n",
      "2656/2656 [==============================] - 1s 280us/step - loss: 0.6272 - acc: 0.6254\n",
      "Epoch 94/150\n",
      "2656/2656 [==============================] - 1s 285us/step - loss: 0.6268 - acc: 0.6284\n",
      "Epoch 95/150\n",
      "2656/2656 [==============================] - 1s 288us/step - loss: 0.6265 - acc: 0.6265\n",
      "Epoch 96/150\n",
      "2656/2656 [==============================] - 1s 294us/step - loss: 0.6273 - acc: 0.6209\n",
      "Epoch 97/150\n",
      "2656/2656 [==============================] - 1s 295us/step - loss: 0.6268 - acc: 0.6250\n",
      "Epoch 98/150\n",
      "2656/2656 [==============================] - 1s 287us/step - loss: 0.6261 - acc: 0.6265\n",
      "Epoch 99/150\n",
      "2656/2656 [==============================] - 1s 281us/step - loss: 0.6276 - acc: 0.6239\n",
      "Epoch 100/150\n",
      "2656/2656 [==============================] - 1s 289us/step - loss: 0.6270 - acc: 0.6269\n",
      "Epoch 101/150\n",
      "2656/2656 [==============================] - 1s 287us/step - loss: 0.6270 - acc: 0.6261\n",
      "Epoch 102/150\n",
      "2656/2656 [==============================] - 1s 275us/step - loss: 0.6271 - acc: 0.6231\n",
      "Epoch 103/150\n",
      "2656/2656 [==============================] - 1s 291us/step - loss: 0.6263 - acc: 0.6235\n",
      "Epoch 104/150\n",
      "2656/2656 [==============================] - 1s 303us/step - loss: 0.6268 - acc: 0.6246\n",
      "Epoch 105/150\n",
      "2656/2656 [==============================] - 1s 286us/step - loss: 0.6265 - acc: 0.6242\n",
      "Epoch 106/150\n",
      "2656/2656 [==============================] - 1s 294us/step - loss: 0.6267 - acc: 0.6284\n",
      "Epoch 107/150\n",
      "2656/2656 [==============================] - 1s 284us/step - loss: 0.6254 - acc: 0.6303\n",
      "Epoch 108/150\n",
      "2656/2656 [==============================] - 1s 297us/step - loss: 0.6269 - acc: 0.6288\n",
      "Epoch 109/150\n",
      "2656/2656 [==============================] - 1s 293us/step - loss: 0.6271 - acc: 0.6254\n",
      "Epoch 110/150\n",
      "2656/2656 [==============================] - 1s 286us/step - loss: 0.6266 - acc: 0.6273\n",
      "Epoch 111/150\n",
      "2656/2656 [==============================] - 1s 285us/step - loss: 0.6265 - acc: 0.6269\n",
      "Epoch 112/150\n",
      "2656/2656 [==============================] - 1s 266us/step - loss: 0.6273 - acc: 0.6209\n",
      "Epoch 113/150\n",
      "2656/2656 [==============================] - 1s 267us/step - loss: 0.6268 - acc: 0.6269\n",
      "Epoch 114/150\n",
      "2656/2656 [==============================] - 1s 266us/step - loss: 0.6264 - acc: 0.6269\n",
      "Epoch 115/150\n",
      "2656/2656 [==============================] - 1s 264us/step - loss: 0.6268 - acc: 0.6254\n",
      "Epoch 116/150\n",
      "2656/2656 [==============================] - 1s 269us/step - loss: 0.6268 - acc: 0.6269\n",
      "Epoch 117/150\n",
      "2656/2656 [==============================] - 1s 275us/step - loss: 0.6263 - acc: 0.6220\n",
      "Epoch 118/150\n",
      "2656/2656 [==============================] - 1s 278us/step - loss: 0.6267 - acc: 0.6288\n",
      "Epoch 119/150\n",
      "2656/2656 [==============================] - 1s 275us/step - loss: 0.6269 - acc: 0.6220\n",
      "Epoch 120/150\n",
      "2656/2656 [==============================] - 1s 274us/step - loss: 0.6263 - acc: 0.6261\n",
      "Epoch 121/150\n",
      "2656/2656 [==============================] - 1s 269us/step - loss: 0.6270 - acc: 0.6242\n",
      "Epoch 122/150\n",
      "2656/2656 [==============================] - 1s 271us/step - loss: 0.6271 - acc: 0.6284 0s - loss: 0.6200 - acc\n",
      "Epoch 123/150\n",
      "2656/2656 [==============================] - 1s 278us/step - loss: 0.6262 - acc: 0.6288\n",
      "Epoch 124/150\n",
      "2656/2656 [==============================] - 1s 301us/step - loss: 0.6262 - acc: 0.6261\n",
      "Epoch 125/150\n",
      "2656/2656 [==============================] - 1s 298us/step - loss: 0.6263 - acc: 0.6246\n",
      "Epoch 126/150\n",
      "2656/2656 [==============================] - 1s 292us/step - loss: 0.6270 - acc: 0.6288\n",
      "Epoch 127/150\n",
      "2656/2656 [==============================] - 1s 285us/step - loss: 0.6258 - acc: 0.6258\n",
      "Epoch 128/150\n",
      "2656/2656 [==============================] - 1s 285us/step - loss: 0.6265 - acc: 0.6284\n",
      "Epoch 129/150\n",
      "2656/2656 [==============================] - 1s 284us/step - loss: 0.6267 - acc: 0.6258\n",
      "Epoch 130/150\n",
      "2656/2656 [==============================] - 1s 285us/step - loss: 0.6267 - acc: 0.6182\n",
      "Epoch 131/150\n",
      "2656/2656 [==============================] - 1s 282us/step - loss: 0.6260 - acc: 0.6261\n",
      "Epoch 132/150\n",
      "2656/2656 [==============================] - 1s 282us/step - loss: 0.6264 - acc: 0.6224\n",
      "Epoch 133/150\n",
      "2656/2656 [==============================] - 1s 281us/step - loss: 0.6259 - acc: 0.6261\n",
      "Epoch 134/150\n",
      "2656/2656 [==============================] - 1s 285us/step - loss: 0.6267 - acc: 0.6227\n",
      "Epoch 135/150\n",
      "2656/2656 [==============================] - 1s 279us/step - loss: 0.6259 - acc: 0.6269\n",
      "Epoch 136/150\n",
      "2656/2656 [==============================] - 1s 284us/step - loss: 0.6269 - acc: 0.6276\n",
      "Epoch 137/150\n",
      "2656/2656 [==============================] - 1s 285us/step - loss: 0.6276 - acc: 0.6246\n",
      "Epoch 138/150\n",
      "2656/2656 [==============================] - 1s 286us/step - loss: 0.6258 - acc: 0.6220\n",
      "Epoch 139/150\n",
      "2656/2656 [==============================] - 1s 280us/step - loss: 0.6262 - acc: 0.6295\n",
      "Epoch 140/150\n",
      "2656/2656 [==============================] - 1s 276us/step - loss: 0.6269 - acc: 0.6242\n",
      "Epoch 141/150\n",
      "2656/2656 [==============================] - 1s 276us/step - loss: 0.6259 - acc: 0.6242\n",
      "Epoch 142/150\n",
      "2656/2656 [==============================] - 1s 278us/step - loss: 0.6268 - acc: 0.6269\n",
      "Epoch 143/150\n",
      "2656/2656 [==============================] - 1s 279us/step - loss: 0.6259 - acc: 0.6261\n",
      "Epoch 144/150\n",
      "2656/2656 [==============================] - 1s 280us/step - loss: 0.6254 - acc: 0.6258\n",
      "Epoch 145/150\n",
      "2656/2656 [==============================] - 1s 278us/step - loss: 0.6259 - acc: 0.6299\n",
      "Epoch 146/150\n",
      "2656/2656 [==============================] - 1s 307us/step - loss: 0.6261 - acc: 0.6220\n",
      "Epoch 147/150\n",
      "2656/2656 [==============================] - 1s 296us/step - loss: 0.6260 - acc: 0.6254\n",
      "Epoch 148/150\n",
      "2656/2656 [==============================] - 1s 284us/step - loss: 0.6263 - acc: 0.6212\n",
      "Epoch 149/150\n",
      "2656/2656 [==============================] - 1s 301us/step - loss: 0.6260 - acc: 0.6239\n",
      "Epoch 150/150\n",
      "2656/2656 [==============================] - 1s 296us/step - loss: 0.6258 - acc: 0.6295\n"
     ]
    },
    {
     "data": {
      "text/plain": [
       "<keras.callbacks.History at 0x1274e6940>"
      ]
     },
     "execution_count": 152,
     "metadata": {},
     "output_type": "execute_result"
    }
   ],
   "source": [
    "# Create your first MLP in Keras\n",
    "from keras.models import Sequential\n",
    "from keras.layers import Dense\n",
    "import numpy\n",
    "\n",
    "# fix random seed for reproducibility\n",
    "numpy.random.seed(7)\n",
    "# create model\n",
    "model = Sequential()\n",
    "model.add(Dense(12, input_dim=48, activation='relu'))\n",
    "model.add(Dense(8, activation='relu'))\n",
    "model.add(Dense(1, activation='sigmoid'))\n",
    "\n",
    "# Compile model\n",
    "model.compile(loss='binary_crossentropy', optimizer='adam', metrics=['accuracy'])\n",
    "# Fit the model\n",
    "model.fit(X1, y1, epochs=150, batch_size=10)\n"
   ]
  },
  {
   "cell_type": "code",
   "execution_count": 153,
   "metadata": {},
   "outputs": [
    {
     "name": "stdout",
     "output_type": "stream",
     "text": [
      "2656/2656 [==============================] - 0s 173us/step\n",
      "\n",
      "acc: 62.95%\n"
     ]
    }
   ],
   "source": [
    "# evaluate the model\n",
    "scores = model.evaluate(X1, y1)\n",
    "print(\"\\n%s: %.2f%%\" % (model.metrics_names[1], scores[1]*100))"
   ]
  },
  {
   "cell_type": "markdown",
   "metadata": {},
   "source": [
    "#### Conclusion: imporved with new approach"
   ]
  },
  {
   "cell_type": "code",
   "execution_count": null,
   "metadata": {},
   "outputs": [],
   "source": [
    "# calculate predictions\n",
    "predictions = model.predict(X1)\n",
    "# round predictions\n",
    "rounded = [round(x[0]) for x in predictions]\n",
    "print(rounded)"
   ]
  },
  {
   "cell_type": "markdown",
   "metadata": {},
   "source": [
    "# >>>>>>>>>>>>>>>>>>>>>>>>>>>>>"
   ]
  },
  {
   "cell_type": "markdown",
   "metadata": {},
   "source": [
    "# Answers for the Test"
   ]
  },
  {
   "cell_type": "markdown",
   "metadata": {},
   "source": [
    "### Q1 Familiarize yourself with the data set \n",
    "Data presented was in a raw format and had many missing values, so I did impute them and also for categorical variables I remove the rows;\n",
    "###### Many for continuouse variables were actually boolean or binary or categorival variables which are not easy to deal as continuous variables for which I have convert them into dummy variables which actaully creates a sub variable for every category of the variable"
   ]
  },
  {
   "cell_type": "markdown",
   "metadata": {},
   "source": [
    "### Q2 Impact of age on expert \n",
    "Impact seems not there as data didn't fit the normal distribution but with box cox transformation also\n",
    "it followed somewhat normal so I performed 2 sample t-test on two data set where expert_opinion ==0 and !=0 and it revealed no significant impact, hence accepted Null hypothesis to be true"
   ]
  },
  {
   "cell_type": "markdown",
   "metadata": {},
   "source": [
    "### Q3 ‘incorporation_type’ has an effect on being accepted\n",
    "I performed chi square contingency test on the two variable set to understand the impact but p value sugeest no significant difference exist"
   ]
  },
  {
   "cell_type": "markdown",
   "metadata": {},
   "source": [
    "### Q4 Many ‘continous_feature’ variables missing.\n",
    "\n",
    "I did imputation assuming random distribution of the continuous data as given. For categorical variables i remove the rows with missing values"
   ]
  },
  {
   "cell_type": "markdown",
   "metadata": {},
   "source": [
    "### Q5 predict ‘‘expert opinion’.\n",
    "I tried Logisitic Regression (with some bug), Boosting algo (XGboost and Adaboost) and lastly 2 versions of nueral networks. I found XGboost was the best at 67%."
   ]
  },
  {
   "cell_type": "markdown",
   "metadata": {},
   "source": [
    "### Q5 steps to improve the performance of the model\n",
    "1. I tried to pre-process the data by imputing missing values and coverting boolean variable to dummy variables. I also partially tried to normalise the dependent variables to remove the scaling features. I can try normalizing or stadarising the variables for avoiding scaling impact of high value variables\n",
    "2. further I wish to work more on XGBoost and Nueral Network algorithms. Like for Nueral Network I can play with no. of epochs, learning rate, type of optimizers, batch size, no. of layers, no. of inputs to layers, activation functions.\n",
    "3. Finally I would also like to test Convolution Neural Nets and SVM."
   ]
  },
  {
   "cell_type": "markdown",
   "metadata": {},
   "source": [
    "### Q7 Calculate the performance of the model\n",
    "all the ML procedures above has performance metrics like entropy, model builin scorings above.\n",
    "\n",
    "#### Brief explanation of approached are included above models like ogisitic Regression (with some bug), Boosting algo (XGboost and Adaboost) and lastly 2 versions of nueral networks inline"
   ]
  },
  {
   "cell_type": "code",
   "execution_count": null,
   "metadata": {},
   "outputs": [],
   "source": []
  }
 ],
 "metadata": {
  "kernelspec": {
   "display_name": "Python 3",
   "language": "python",
   "name": "python3"
  },
  "language_info": {
   "codemirror_mode": {
    "name": "ipython",
    "version": 3
   },
   "file_extension": ".py",
   "mimetype": "text/x-python",
   "name": "python",
   "nbconvert_exporter": "python",
   "pygments_lexer": "ipython3",
   "version": "3.5.2"
  }
 },
 "nbformat": 4,
 "nbformat_minor": 2
}
